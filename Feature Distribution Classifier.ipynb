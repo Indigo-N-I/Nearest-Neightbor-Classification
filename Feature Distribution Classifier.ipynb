{
 "cells": [
  {
   "cell_type": "code",
   "execution_count": 18,
   "metadata": {
    "ExecuteTime": {
     "end_time": "2020-06-05T05:08:15.662188Z",
     "start_time": "2020-06-05T05:08:15.657687Z"
    }
   },
   "outputs": [],
   "source": [
    "import pandas as pd\n",
    "import numpy as np\n",
    "from sklearn.neighbors import KDTree\n",
    "from sklearn.neighbors import KNeighborsClassifier\n",
    "from sklearn.preprocessing import normalize, StandardScaler\n",
    "from sklearn.model_selection import train_test_split\n",
    "from sklearn.neighbors import RadiusNeighborsClassifier\n",
    "import matplotlib.pyplot as plt\n",
    "import math\n",
    "from collections import defaultdict\n",
    "import operator\n",
    "import scipy as sp\n",
    "from sklearn import preprocessing\n",
    "import json\n",
    "import operator"
   ]
  },
  {
   "cell_type": "code",
   "execution_count": 3,
   "metadata": {
    "ExecuteTime": {
     "end_time": "2020-06-05T04:59:16.287054Z",
     "start_time": "2020-06-05T04:59:16.278165Z"
    },
    "code_folding": [
     0,
     10,
     20,
     30,
     40,
     50,
     60,
     70
    ]
   },
   "outputs": [],
   "source": [
    "data_location_AT = [r\"D:\\Storage\\Research\\data\\ATER\",\n",
    "                 r\"D:\\Storage\\Research\\data\\ATERDD\",\n",
    "                 r\"D:\\Storage\\Research\\data\\ATGEO\",\n",
    "                 r\"D:\\Storage\\Research\\data\\ATGEOGD\",\n",
    "                 r\"D:\\Storage\\Research\\data\\ATHGG\",\n",
    "                 r\"D:\\Storage\\Research\\data\\ATSF\",\n",
    "                 r\"D:\\Storage\\Research\\data\\ATSFDD\",\n",
    "                 r\"D:\\Storage\\Research\\data\\ATSticky\",\n",
    "                 r\"D:\\Storage\\Research\\data\\ATOriginal\"]\n",
    "\n",
    "data_location_CE = [r\"D:\\Storage\\Research\\data\\CEER\",\n",
    "                 r\"D:\\Storage\\Research\\data\\CEERDD\",\n",
    "                 r\"D:\\Storage\\Research\\data\\CEGEO\",\n",
    "                 r\"D:\\Storage\\Research\\data\\CEGEOGD\",\n",
    "                 r\"D:\\Storage\\Research\\data\\CEHGG\",\n",
    "                 r\"D:\\Storage\\Research\\data\\CESF\",\n",
    "                 r\"D:\\Storage\\Research\\data\\CESFDD\",\n",
    "                 r\"D:\\Storage\\Research\\data\\CESticky\",\n",
    "                 r\"D:\\Storage\\Research\\data\\CEOriginal\"]\n",
    "\n",
    "data_location_DM = [r\"D:\\Storage\\Research\\data\\DMER\",\n",
    "                 r\"D:\\Storage\\Research\\data\\DMERDD\",\n",
    "                 r\"D:\\Storage\\Research\\data\\DMGEO\",\n",
    "                 r\"D:\\Storage\\Research\\data\\DMGEOGD\",\n",
    "                 r\"D:\\Storage\\Research\\data\\DMHGG\",\n",
    "                 r\"D:\\Storage\\Research\\data\\DMSF\",\n",
    "                 r\"D:\\Storage\\Research\\data\\DMSFDD\",\n",
    "                 r\"D:\\Storage\\Research\\data\\DMSticky\",\n",
    "                 r\"D:\\Storage\\Research\\data\\DMOriginal\"]\n",
    "\n",
    "data_location_EC = [r\"D:\\Storage\\Research\\data\\ECER\",\n",
    "                 r\"D:\\Storage\\Research\\data\\ECERDD\",\n",
    "                 r\"D:\\Storage\\Research\\data\\ECGEO\",\n",
    "                 r\"D:\\Storage\\Research\\data\\ECGEOGD\",\n",
    "                 r\"D:\\Storage\\Research\\data\\ECHGG\",\n",
    "                 r\"D:\\Storage\\Research\\data\\ECSF\",\n",
    "                 r\"D:\\Storage\\Research\\data\\ECSFDD\",\n",
    "                 r\"D:\\Storage\\Research\\data\\ECSticky\",\n",
    "                 r\"D:\\Storage\\Research\\data\\ECOriginal\"]\n",
    "\n",
    "data_location_HS = [r\"D:\\Storage\\Research\\data\\HSER\",\n",
    "                 r\"D:\\Storage\\Research\\data\\HSERDD\",\n",
    "                 r\"D:\\Storage\\Research\\data\\HSGEO\",\n",
    "                 r\"D:\\Storage\\Research\\data\\HSGEOGD\",\n",
    "                 r\"D:\\Storage\\Research\\data\\HSHGG\",\n",
    "                 r\"D:\\Storage\\Research\\data\\HSSF\",\n",
    "                 r\"D:\\Storage\\Research\\data\\HSSFDD\",\n",
    "                 r\"D:\\Storage\\Research\\data\\HSSticky\",\n",
    "                 r\"D:\\Storage\\Research\\data\\HSOriginal\"]\n",
    "\n",
    "data_location_MM = [r\"D:\\Storage\\Research\\data\\MMER\",\n",
    "                 r\"D:\\Storage\\Research\\data\\MMERDD\",\n",
    "                 r\"D:\\Storage\\Research\\data\\MMGEO\",\n",
    "                 r\"D:\\Storage\\Research\\data\\MMGEOGD\",\n",
    "                 r\"D:\\Storage\\Research\\data\\MMHGG\",\n",
    "                 r\"D:\\Storage\\Research\\data\\MMSF\",\n",
    "                 r\"D:\\Storage\\Research\\data\\MMSFDD\",\n",
    "                 r\"D:\\Storage\\Research\\data\\MMSticky\",\n",
    "                 r\"D:\\Storage\\Research\\data\\MMOriginal\"]\n",
    "\n",
    "data_location_RN = [r\"D:\\Storage\\Research\\data\\RNER\",\n",
    "                 r\"D:\\Storage\\Research\\data\\RNERDD\",\n",
    "                 r\"D:\\Storage\\Research\\data\\RNGEO\",\n",
    "                 r\"D:\\Storage\\Research\\data\\RNGEOGD\",\n",
    "                 r\"D:\\Storage\\Research\\data\\RNHGG\",\n",
    "                 r\"D:\\Storage\\Research\\data\\RNSF\",\n",
    "                 r\"D:\\Storage\\Research\\data\\RNSFDD\",\n",
    "                 r\"D:\\Storage\\Research\\data\\RNSticky\",\n",
    "                 r\"D:\\Storage\\Research\\data\\RNOriginal\"]\n",
    "\n",
    "data_location_SC = [r\"D:\\Storage\\Research\\data\\SCER\",\n",
    "                 r\"D:\\Storage\\Research\\data\\SCERDD\",\n",
    "                 r\"D:\\Storage\\Research\\data\\SCGEO\",\n",
    "                 r\"D:\\Storage\\Research\\data\\SCGEOGD\",\n",
    "                 r\"D:\\Storage\\Research\\data\\SCHGG\",\n",
    "                 r\"D:\\Storage\\Research\\data\\SCSF\",\n",
    "                 r\"D:\\Storage\\Research\\data\\SCSFDD\",\n",
    "                 r\"D:\\Storage\\Research\\data\\SCSticky\",\n",
    "                 r\"D:\\Storage\\Research\\data\\SCOriginal\"]\n",
    "\n",
    "data_location_SP = [r\"D:\\Storage\\Research\\data\\SPER\",\n",
    "                 r\"D:\\Storage\\Research\\data\\SPERDD\",\n",
    "                 r\"D:\\Storage\\Research\\data\\SPGEO\",\n",
    "                 r\"D:\\Storage\\Research\\data\\SPGEOGD\",\n",
    "                 r\"D:\\Storage\\Research\\data\\SPHGG\",\n",
    "                 r\"D:\\Storage\\Research\\data\\SPSF\",\n",
    "                 r\"D:\\Storage\\Research\\data\\SPSFDD\",\n",
    "                 r\"D:\\Storage\\Research\\data\\SPSticky\",\n",
    "                 r\"D:\\Storage\\Research\\data\\SPOriginal\"]"
   ]
  },
  {
   "cell_type": "code",
   "execution_count": 4,
   "metadata": {
    "ExecuteTime": {
     "end_time": "2020-06-05T04:59:16.304167Z",
     "start_time": "2020-06-05T04:59:16.289041Z"
    }
   },
   "outputs": [],
   "source": [
    "def distance(origin, other):\n",
    "    return np.sum((origin - other) ** 2)**(1/2)\n",
    "\n",
    "def gamma_mle(data, iterations = 4):\n",
    "            alphas = np.zeros((1,2)) # each set of data will be given row of alpahs per column of data\n",
    "            x = np.zeros((1,2))\n",
    "            #print(np.mean(data))\n",
    "            #print(np.sum(data == 0))\n",
    "#             print(data)\n",
    "            x[:,0] = np.log(np.mean(data))\n",
    "            x[:,1] = np.mean(np.log(data))\n",
    "#             print(f\"calculated the initial values {x}\")\n",
    "            alphas[:,0] = .5/(x[:,0] - x[:,1])\n",
    "            \n",
    "            k = alphas[:,0]\n",
    "            for i in range(iterations):\n",
    "#                 print(f'on iteration {i} for calcuating k ({k})')\n",
    "                digamma = sp.special.digamma(k)\n",
    "                digamma_prime = sp.special.polygamma(1,k)\n",
    "                k = 1/(1/k +(x[:,1] - x[:,0] + np.log(k) - digamma)/k**2*(1/k-digamma_prime))\n",
    "            \n",
    "            if np.any(np.isnan(k)):\n",
    "#                 print(\"for the following data the k became not a number,\", data, data.shape)\n",
    "                print(\"the data was calculated to have a k of not a number\")\n",
    "            alphas[:, 0] = k\n",
    "            alphas[:, 1] = np.exp(x[:,0])/alphas[:,0]\n",
    "            \n",
    "            return alphas"
   ]
  },
  {
   "cell_type": "code",
   "execution_count": 11,
   "metadata": {
    "ExecuteTime": {
     "end_time": "2020-06-05T05:01:08.541460Z",
     "start_time": "2020-06-05T05:01:08.521513Z"
    },
    "code_folding": []
   },
   "outputs": [],
   "source": [
    "class FDC():\n",
    "    \n",
    "    def __init__(self, x, y, model = 'gamma', threshold = .00):\n",
    "        self.data = x\n",
    "        self.labels = y\n",
    "        self.model = model\n",
    "        self.threshold = threshold\n",
    "        self.model = model\n",
    "        \n",
    "    def fit(self):\n",
    "\n",
    "        u_labels = set(self.labels)\n",
    "        if self.model == 'gamma':\n",
    "            self.alphas = {label:{} for label in u_labels}\n",
    "\n",
    "            for label in u_labels:\n",
    "                fitting_points = self.data[self.labels == label]\n",
    "                for column in range(self.data.shape[1]):\n",
    "                    c = gamma_mle(fitting_points[:, column])[0]\n",
    "                    self.alphas[label][column] = c\n",
    "                    if self.alphas[label][column][1] == np.nan:\n",
    "                        self.alphas[label][column] = (sp.stats.mode(fitting_points[:,column])[0], self.alphas[label][column][1])\n",
    "                    \n",
    "        elif self.model == 'normal':\n",
    "            self.alphas = {label:{} for label in u_labels}\n",
    "            \n",
    "            for label in u_labels:\n",
    "                fitting_points = self.data[y == label]\n",
    "                for column in range(self.data.shape[1]):\n",
    "                    self.alphas[label][column] = (np.mean(fitting_points[:,column]), np.std(fitting_points[:, column]))\n",
    "                    if self.alphas[label][column][1] == 0:\n",
    "                        self.alphas[label][column] = (sp.stats.mode(fitting_points[:,column])[0], self.alphas[label][column][1])\n",
    "                    # stored as (mean, standard deviation)\n",
    "            #print(self.alphas)\n",
    "\n",
    "    def predict(self, point, explicit = False):\n",
    "        p_scores = {label:[0]*self.data.shape[1] for label in set(self.labels)}\n",
    "        #print(f\"the model being used is {self.model}\")\n",
    "        if self.model == 'gamma':\n",
    "            for label, f_alphas in self.alphas.items():\n",
    "                for feature, alpha in f_alphas.items():\n",
    "                    if np.isnan(alpha[0]):\n",
    "                        # Need to input a check to see if is just the same as all other numbers and assign there\n",
    "                        p_scores[label][feature] = 0 if point[feature] != alpha[0] else 1\n",
    "#                         print(\"set p score to 1\")\n",
    "                    else:\n",
    "                        rv = sp.stats.gamma(alpha[0], scale = alpha[1])\n",
    "                        cdf = rv.cdf(point[feature])\n",
    "                        p_scores[label][feature] = min(1 - cdf, cdf)\n",
    "                        # 2 sided\n",
    "#                 print(f\"there are {np.sum(p_scores[label] == 1)} ones in the p_scores\")\n",
    "#                 print(f\"the scores are {p_scores[label]}\")\n",
    "#                 print(p_scores)\n",
    "\n",
    "                p_scores[label] = 1 - np.asarray(p_scores[label])\n",
    "                p_scores[label] = 1 - np.product(p_scores[label])\n",
    "                #classify into class with highest lowest probability\n",
    "            return p_scores if explicit else max(p_scores.items(), key=operator.itemgetter(1))[0]\n",
    "        \n",
    "        elif self.model == 'normal':\n",
    "            for label, f_alphas in self.alphas.items():\n",
    "                for feature, alpha in f_alphas.items():\n",
    "                    if alpha[1] != 0:\n",
    "                        z = (point[feature] - alpha[0])/alpha[1]\n",
    "                    else:\n",
    "                        #print(point[feature], alpha[0])\n",
    "#                         print('normal has a nan')\n",
    "                        z = 20 if point[feature] != alpha[0] else .5\n",
    "                    p_scores[label][feature] = np.abs(z)\n",
    "               \n",
    "                p_scores[label] = np.max(p_scores[label][p_scores[label] != np.nan])\n",
    "                # get lowest probability\n",
    "            # return highest lowest probability\n",
    "            #print(f\"p_scores are {p_scores}\")\n",
    "            return p_scores if explicit else min(p_scores.items(), key=operator.itemgetter(1))[0]\n",
    "    \n",
    "    def score(self):\n",
    "        correct = 0\n",
    "        total = 0\n",
    "        for index, point in enumerate(self.data):\n",
    "#             print(f\"predicting index {index}\")\n",
    "            explicit = self.predict(point, explicit = True)\n",
    "            predict = max(explicit.items(), key=operator.itemgetter(1))[0]\n",
    "            if predict == self.labels[index]:\n",
    "                correct += 1\n",
    "            else:\n",
    "                print(f\"incorrect class prediction {predict} for class {self.labels[index]}: {explicit}\")\n",
    "            total += 1\n",
    "        \n",
    "        return correct/total"
   ]
  },
  {
   "cell_type": "code",
   "execution_count": 21,
   "metadata": {
    "ExecuteTime": {
     "end_time": "2020-05-28T21:38:52.151839Z",
     "start_time": "2020-05-28T21:27:54.719882Z"
    },
    "scrolled": true
   },
   "outputs": [
    {
     "name": "stdout",
     "output_type": "stream",
     "text": [
      "actually running\n",
      "0\n",
      "1.0\n",
      "6570\n",
      "the data was calculated to have a k of not a number\n",
      "the data was calculated to have a k of not a number\n",
      "the data was calculated to have a k of not a number\n",
      "the data was calculated to have a k of not a number\n",
      "the data was calculated to have a k of not a number\n",
      "the data was calculated to have a k of not a number\n",
      "the data was calculated to have a k of not a number\n",
      "the data was calculated to have a k of not a number\n",
      "the data was calculated to have a k of not a number\n",
      "the data was calculated to have a k of not a number\n",
      "the data was calculated to have a k of not a number\n",
      "the data was calculated to have a k of not a number\n",
      "the data was calculated to have a k of not a number\n",
      "the data was calculated to have a k of not a number\n",
      "the data was calculated to have a k of not a number\n",
      "the data was calculated to have a k of not a number\n",
      "the data was calculated to have a k of not a number\n",
      "the data was calculated to have a k of not a number\n",
      "the data was calculated to have a k of not a number\n",
      "the data was calculated to have a k of not a number\n",
      "the data was calculated to have a k of not a number\n"
     ]
    },
    {
     "name": "stderr",
     "output_type": "stream",
     "text": [
      "D:\\Anaconda\\lib\\site-packages\\ipykernel_launcher.py:11: RuntimeWarning: divide by zero encountered in log\n",
      "  # This is added back by InteractiveShellApp.init_path()\n",
      "D:\\Anaconda\\lib\\site-packages\\ipykernel_launcher.py:20: RuntimeWarning: divide by zero encountered in true_divide\n",
      "D:\\Anaconda\\lib\\site-packages\\ipykernel_launcher.py:20: RuntimeWarning: divide by zero encountered in log\n",
      "D:\\Anaconda\\lib\\site-packages\\ipykernel_launcher.py:20: RuntimeWarning: invalid value encountered in subtract\n",
      "D:\\Anaconda\\lib\\site-packages\\ipykernel_launcher.py:10: RuntimeWarning: divide by zero encountered in log\n",
      "  # Remove the CWD from sys.path while we load stuff.\n",
      "D:\\Anaconda\\lib\\site-packages\\ipykernel_launcher.py:13: RuntimeWarning: invalid value encountered in subtract\n",
      "  del sys.path[0]\n",
      "D:\\Anaconda\\lib\\site-packages\\ipykernel_launcher.py:20: RuntimeWarning: invalid value encountered in log\n"
     ]
    },
    {
     "name": "stdout",
     "output_type": "stream",
     "text": [
      "incorrect class prediction 3 for class 0: {0: 0.32030046140307267, 1: 0.007621717635557412, 2: 1.1102230246251565e-16, 3: 0.6749335048456396, 4: 0.4518066626796139, 5: 0.0, 6: 0.01000827667177595, 7: 0.17311633850561803}\n",
      "incorrect class prediction 3 for class 0: {0: 0.5694353880886025, 1: 0.0003451421036009261, 2: 0.0007755336429173809, 3: 0.6060802861673136, 4: 0.4859011404088457, 5: 0.0, 6: 0.012353105719556612, 7: 7.271891842131062e-06}\n",
      "incorrect class prediction 3 for class 0: {0: 0.6098479614459296, 1: 0.14048918529457566, 2: 8.855138844410249e-13, 3: 0.6689917118354982, 4: 0.4605805290758159, 5: 0.0, 6: 0.09517298047817946, 7: 0.3894353175208769}\n",
      "incorrect class prediction 6 for class 1: {0: 0.49865345672400707, 1: 0.9350250332713061, 2: 9.714271831384735e-09, 3: 8.083148947646279e-05, 4: 0.6157040547911199, 5: 0.16059746399789954, 6: 0.9604468305316733, 7: 0.03778849366546322}\n",
      "incorrect class prediction 6 for class 1: {0: 0.49865345672400707, 1: 0.9139883502042239, 2: 9.714271831384735e-09, 3: 6.362266040671472e-05, 4: 0.614340498027292, 5: 0.1677578273849546, 6: 0.9618131122858892, 7: 0.037798397805946626}\n",
      "incorrect class prediction 6 for class 1: {0: 0.49865345672400707, 1: 0.8010078534268913, 2: 9.714271831384735e-09, 3: 3.445149186531715e-05, 4: 0.6628703245325875, 5: 0.2684358071923373, 6: 0.9740857457411658, 7: 0.44064997157551977}\n",
      "incorrect class prediction 6 for class 1: {0: 0.49865345672400707, 1: 0.9497307350597004, 2: 9.714271831384735e-09, 3: 5.714385979460612e-05, 4: 0.6058369086944728, 5: 0.14130214081661663, 6: 0.9606879689938006, 7: 0.03782369862133206}\n",
      "incorrect class prediction 6 for class 1: {0: 0.49865345672400707, 1: 0.9226882882374668, 2: 9.714271831384735e-09, 3: 4.263029174078614e-05, 4: 0.649016213644684, 5: 0.26382307724039655, 6: 0.9636212381896351, 7: 0.08622197326183012}\n",
      "incorrect class prediction 6 for class 1: {0: 0.49865345672400707, 1: 0.71682681985315, 2: 9.714271831384735e-09, 3: 4.147502044493656e-05, 4: 0.655195346936696, 5: 0.24520045693261217, 6: 0.9753859342606312, 7: 0.262008760407595}\n",
      "incorrect class prediction 6 for class 1: {0: 0.49865345672400707, 1: 0.954647195091461, 2: 9.714271831384735e-09, 3: 5.7976761851041836e-05, 4: 0.6158966346059394, 5: 0.17463112030980832, 6: 0.9594316479569799, 7: 0.03783609113804298}\n",
      "incorrect class prediction 6 for class 1: {0: 0.49865345672400707, 1: 0.9508264538405508, 2: 9.714271831384735e-09, 3: 5.73649691490985e-05, 4: 0.6069254405006737, 5: 0.1413206020773874, 6: 0.9607517616273853, 7: 0.0378521578250518}\n",
      "incorrect class prediction 6 for class 1: {0: 0.49865345672400707, 1: 0.9263737761881651, 2: 9.714271831384735e-09, 3: 6.497576554032047e-05, 4: 0.6159038761826701, 5: 0.17084399256156946, 6: 0.9624535784625439, 7: 0.03835518538628713}\n",
      "incorrect class prediction 6 for class 1: {0: 0.49865345672400707, 1: 0.7976658937094628, 2: 9.714271831384735e-09, 3: 3.814921142930583e-05, 4: 0.6576310966459349, 5: 0.253478445367351, 6: 0.9721134819407852, 7: 0.2735475642188937}\n",
      "incorrect class prediction 6 for class 1: {0: 0.49865345672400707, 1: 0.9414602348528396, 2: 9.714271831384735e-09, 3: 5.566777103227505e-05, 4: 0.6009306756169638, 5: 0.12501116348852825, 6: 0.9618055722090662, 7: 0.03781135239597255}\n",
      "incorrect class prediction 6 for class 1: {0: 0.49865345672400707, 1: 0.9191297594732044, 2: 9.714271831384735e-09, 3: 4.5746257607226504e-05, 4: 0.622927401390919, 5: 0.1852109291256645, 6: 0.9627400680920309, 7: 0.03981670468832321}\n",
      "incorrect class prediction 6 for class 1: {0: 0.49865345672400707, 1: 0.9308404294648427, 2: 9.714271831384735e-09, 3: 7.36972963605309e-05, 4: 0.6148429347119446, 5: 0.16995260429638803, 6: 0.9613719775823037, 7: 0.03803251234282867}\n",
      "incorrect class prediction 6 for class 1: {0: 0.49865345672400707, 1: 0.7042526268616558, 2: 9.714271831384735e-09, 3: 2.767696580141532e-05, 4: 0.6549752916224654, 5: 0.24563193038416353, 6: 0.9722110664826795, 7: 0.25946991762760907}\n",
      "incorrect class prediction 6 for class 1: {0: 0.49865345672400707, 1: 0.8105623793293382, 2: 9.714271831384735e-09, 3: 5.0308430919909775e-05, 4: 0.6294097836972109, 5: 0.1966447470893451, 6: 0.9658723569159609, 7: 0.0816636452915227}\n",
      "incorrect class prediction 6 for class 1: {0: 0.49865345672400707, 1: 0.9479346203670606, 2: 9.714271831384735e-09, 3: 5.3288591957634246e-05, 4: 0.6140468729029207, 5: 0.16158676381771864, 6: 0.9598293846681271, 7: 0.03776471561888162}\n",
      "incorrect class prediction 6 for class 1: {0: 0.49865345672400707, 1: 0.7624639116496092, 2: 9.714271831384735e-09, 3: 3.2849263685519325e-05, 4: 0.6352126737537601, 5: 0.19291280543397016, 6: 0.9701035988467968, 7: 0.3254181217468355}\n",
      "incorrect class prediction 6 for class 1: {0: 0.49865345672400707, 1: 0.7721143456803728, 2: 9.714271831384735e-09, 3: 5.1205492800132646e-05, 4: 0.636826515637817, 5: 0.21312025004540802, 6: 0.9685539616552244, 7: 0.3175019065155905}\n",
      "incorrect class prediction 6 for class 1: {0: 0.49865345672400707, 1: 0.8522027434281715, 2: 9.714271831384735e-09, 3: 5.41449987966347e-05, 4: 0.6193100950086113, 5: 0.17241261570795896, 6: 0.9649563999516062, 7: 0.04852482726253071}\n",
      "incorrect class prediction 6 for class 1: {0: 0.49865345672400707, 1: 0.9311089887933399, 2: 9.714271831384735e-09, 3: 2.8554892287702138e-05, 4: 0.6437099241914082, 5: 0.23627384254900663, 6: 0.9646331573195221, 7: 0.16191170573041758}\n",
      "incorrect class prediction 6 for class 1: {0: 0.49865345672400707, 1: 0.6003490631832373, 2: 9.714271831384735e-09, 3: 9.896834417322253e-06, 4: 0.7483524755004998, 5: 0.46152503983854376, 6: 0.9656814831623988, 7: 0.037765689211972764}\n",
      "incorrect class prediction 6 for class 1: {0: 0.49865345672400707, 1: 0.9074802843344948, 2: 9.714271831384735e-09, 3: 4.723555493535425e-05, 4: 0.6230759309419412, 5: 0.1810014531390698, 6: 0.9635706325066248, 7: 0.040715190068629004}\n",
      "incorrect class prediction 6 for class 1: {0: 0.49865345672400707, 1: 0.9586429787872355, 2: 9.714271831384735e-09, 3: 3.852645357593776e-05, 4: 0.6169540012553992, 5: 0.1634652929913636, 6: 0.9605979081977885, 7: 0.03843614512665283}\n",
      "incorrect class prediction 6 for class 1: {0: 0.49865345672400707, 1: 0.9583636978571516, 2: 9.714271831384735e-09, 3: 5.383196041963689e-05, 4: 0.6041590560570378, 5: 0.1279339725530667, 6: 0.9603662533932663, 7: 0.03778887218173288}\n",
      "incorrect class prediction 6 for class 1: {0: 0.49865345672400707, 1: 0.7252704224179676, 2: 9.714271831384735e-09, 3: 4.820822809670222e-05, 4: 0.651017567865545, 5: 0.24763490430658164, 6: 0.9718778205135438, 7: 0.2612981073934584}\n",
      "incorrect class prediction 6 for class 1: {0: 0.49865345672400707, 1: 0.49573127077306933, 2: 9.714271831384735e-09, 3: 1.5934757092050944e-05, 4: 0.7371778918216754, 5: 0.42877374104701416, 6: 0.9673614854184245, 7: 0.03782946171400592}\n",
      "incorrect class prediction 6 for class 1: {0: 0.49865345672400707, 1: 0.8312296822932406, 2: 9.714271831384735e-09, 3: 4.149395161878733e-05, 4: 0.6464445992366827, 5: 0.23223011623540657, 6: 0.9682129429572853, 7: 0.33174222064520564}\n",
      "incorrect class prediction 6 for class 1: {0: 0.49865345672400707, 1: 0.8115931411685535, 2: 9.714271831384735e-09, 3: 1.8185632839395893e-05, 4: 0.6971348660426331, 5: 0.36748025487046276, 6: 0.9744273649546646, 7: 0.08111431937813662}\n",
      "incorrect class prediction 6 for class 1: {0: 0.49865345672400707, 1: 0.6598708139100505, 2: 9.714271831384735e-09, 3: 4.5276303252128614e-05, 4: 0.6587495762696527, 5: 0.25080946642675606, 6: 0.9751232252455034, 7: 0.4380517924521167}\n",
      "incorrect class prediction 6 for class 1: {0: 0.49865345672400707, 1: 0.9408929611015929, 2: 9.714271831384735e-09, 3: 4.5450572334293504e-05, 4: 0.6428894909112797, 5: 0.24208039103321932, 6: 0.963389757623617, 7: 0.09304876437674758}\n",
      "incorrect class prediction 6 for class 1: {0: 0.49865345672400707, 1: 0.8895707190401144, 2: 9.714271831384735e-09, 3: 6.956304824590198e-05, 4: 0.6268692659783888, 5: 0.19481637408042063, 6: 0.9634093614269684, 7: 0.038543815281745}\n",
      "incorrect class prediction 6 for class 1: {0: 0.49865345672400707, 1: 0.9433722597784071, 2: 9.714271831384735e-09, 3: 4.338085663002644e-05, 4: 0.609847338239786, 5: 0.14858010858379767, 6: 0.9613518805464393, 7: 0.03785668240264939}\n"
     ]
    },
    {
     "name": "stdout",
     "output_type": "stream",
     "text": [
      "incorrect class prediction 6 for class 1: {0: 0.49865345672400707, 1: 0.9499866095423991, 2: 9.714271831384735e-09, 3: 6.670214151571763e-05, 4: 0.5996206900677563, 5: 0.12341827632283009, 6: 0.9609815378735468, 7: 0.03776619002187165}\n",
      "incorrect class prediction 6 for class 1: {0: 0.49865345672400707, 1: 0.9309185684231776, 2: 9.714271831384735e-09, 3: 3.5257563820834115e-05, 4: 0.628287177792749, 5: 0.19107520109169007, 6: 0.9623910714121988, 7: 0.041169871756579934}\n",
      "incorrect class prediction 3 for class 2: {0: 0.0002661596899790064, 1: 0.0015073208549718498, 2: 0.9489382796522858, 3: 0.9562600024438374, 4: 0.6196684452126353, 5: 0.5117256871187731, 6: 0.8006297253273316, 7: 5.840368655363193e-08}\n",
      "incorrect class prediction 3 for class 2: {0: 3.7584380052635424e-12, 1: 0.0018459663362554446, 2: 0.8712841656530235, 3: 0.977098480071577, 4: 0.7369206222725346, 5: 0.4010143732034597, 6: 0.7847161502986829, 7: 3.1972682029701716e-06}\n",
      "incorrect class prediction 3 for class 2: {0: 4.107825191113079e-14, 1: 0.0017886785351968193, 2: 0.9334918313421164, 3: 0.9755816070095428, 4: 0.710563922588394, 5: 0.3967202192448578, 6: 0.783826738956324, 7: 4.67245108159986e-08}\n",
      "incorrect class prediction 3 for class 2: {0: 8.79518680108049e-13, 1: 0.002008488046674861, 2: 0.8037710391613786, 3: 0.9795878556409404, 4: 0.7320831179547413, 5: 0.39749909523912663, 6: 0.7760002073583143, 7: 2.5195099768948737e-05}\n",
      "incorrect class prediction 3 for class 2: {0: 1.4853765703315425e-05, 1: 0.0015137103357718562, 2: 0.9267617410065401, 3: 0.9579000108532674, 4: 0.6325050682999624, 5: 0.5030791118541308, 6: 0.7953224237348655, 7: 8.878935364720064e-10}\n",
      "incorrect class prediction 3 for class 2: {0: 8.301581644332146e-11, 1: 0.0019392055716824785, 2: 0.9665018889366586, 3: 0.9772179088565098, 4: 0.7322386397884693, 5: 0.37507979569783667, 6: 0.7830324724426749, 7: 7.877134016731624e-06}\n",
      "incorrect class prediction 3 for class 2: {0: 1.9984014443252818e-15, 1: 0.0020099281540206793, 2: 0.5424431531333958, 3: 0.9807800273439253, 4: 0.7420267827925342, 5: 0.41496175368138, 6: 0.7778255598556718, 7: 4.7725125402187096e-05}\n",
      "incorrect class prediction 3 for class 2: {0: 1.3859691172513067e-11, 1: 0.0018863603291221498, 2: 0.9471619500887528, 3: 0.9766398449302264, 4: 0.7225645929343782, 5: 0.38526207964704096, 6: 0.7775547837276537, 7: 3.7461983962705503e-06}\n",
      "incorrect class prediction 3 for class 2: {0: 9.051885865640763e-06, 1: 0.001596773372186, 2: 0.89849997814149, 3: 0.9596996759726442, 4: 0.6068018961662915, 5: 0.5247717596086401, 6: 0.7974110098321477, 7: 5.431399552335847e-09}\n",
      "incorrect class prediction 3 for class 2: {0: 3.941291737419306e-14, 1: 0.0017691544200839626, 2: 0.8855505009602684, 3: 0.9765865871065841, 4: 0.7212922493153124, 5: 0.38577275155466895, 6: 0.7839370793891464, 7: 7.674267965551707e-08}\n",
      "incorrect class prediction 3 for class 2: {0: 1.078248601515952e-11, 1: 0.0018631654319439805, 2: 0.865711367844739, 3: 0.9767644566095569, 4: 0.7030258110220278, 5: 0.3836360360317961, 6: 0.7809723345790575, 7: 1.2921364433982063e-06}\n",
      "incorrect class prediction 3 for class 2: {0: 1.4511384831106255e-05, 1: 0.0016661945869987926, 2: 0.9425822401864649, 3: 0.9608255412996689, 4: 0.6066254525972166, 5: 0.508280592042904, 6: 0.7883905541749623, 7: 4.196627712005352e-09}\n",
      "incorrect class prediction 3 for class 2: {0: 9.992007221626409e-16, 1: 0.001799224796956378, 2: 0.9444654017416008, 3: 0.9758223984415734, 4: 0.7231987183049565, 5: 0.412372442329352, 6: 0.7798574250332183, 7: 5.709355455074672e-07}\n",
      "incorrect class prediction 3 for class 2: {0: 0.0004085775390962887, 1: 0.0015306307124631768, 2: 0.6353183490675922, 3: 0.9548028405701434, 4: 0.573198511115538, 5: 0.5375460082692844, 6: 0.7944647618347764, 7: 1.1119016574134832e-07}\n",
      "incorrect class prediction 3 for class 2: {0: 6.052084475793862e-07, 1: 0.0015883484212009247, 2: 0.8518105644843657, 3: 0.9586264451258636, 4: 0.5730975558790109, 5: 0.52730366314129, 6: 0.7908211518682082, 7: 2.803316467847594e-10}\n",
      "incorrect class prediction 3 for class 2: {0: 0.00788243823425494, 1: 0.0019705443216839758, 2: 0.8749200301779544, 3: 0.9520515119306748, 4: 0.6133353111785134, 5: 0.5145826719965875, 6: 0.8047510567773495, 7: 1.1554928454837743e-05}\n",
      "incorrect class prediction 3 for class 2: {0: 1.0946598802963337e-05, 1: 0.0015451622849117497, 2: 0.9567630145508378, 3: 0.9592924108380566, 4: 0.618807402430857, 5: 0.4938689270477875, 6: 0.7937765714588819, 7: 6.491528425911497e-10}\n",
      "incorrect class prediction 3 for class 2: {0: 9.2148511043888e-15, 1: 0.0019415963942112091, 2: 0.8083786525244734, 3: 0.9784254451435188, 4: 0.7043925132769888, 5: 0.37893053795039755, 6: 0.7803604943312463, 7: 5.960476469502041e-06}\n",
      "incorrect class prediction 3 for class 2: {0: 8.37108160567368e-14, 1: 0.0019220118669828201, 2: 0.936939722265291, 3: 0.9788151178510768, 4: 0.7116586686796201, 5: 0.4005231424411394, 6: 0.7803925939201047, 7: 6.364161311633865e-05}\n",
      "incorrect class prediction 3 for class 2: {0: 3.1593821146591594e-05, 1: 0.0015222982330077572, 2: 0.6583280900750119, 3: 0.955644853405255, 4: 0.6034948912270044, 5: 0.5505471312089207, 6: 0.7989183572059009, 7: 3.6147289605992228e-09}\n",
      "incorrect class prediction 3 for class 2: {0: 2.241762331323116e-12, 1: 0.001818364336769962, 2: 0.9691874679462498, 3: 0.9753106008618203, 4: 0.7206689615686241, 5: 0.3811125480201544, 6: 0.7794603464928009, 7: 1.206297290501368e-06}\n",
      "incorrect class prediction 3 for class 2: {0: 2.050970504541283e-11, 1: 0.0019529356161761546, 2: 0.7904981890787551, 3: 0.9791296751356982, 4: 0.6848523566981498, 5: 0.39598409809087665, 6: 0.7834551047995371, 7: 3.303677286103923e-05}\n",
      "incorrect class prediction 3 for class 2: {0: 2.7533531010703882e-14, 1: 0.0017540765621806287, 2: 0.9565202641191225, 3: 0.9751538550426494, 4: 0.7267842420126378, 5: 0.3995362949278579, 6: 0.7850704998106679, 7: 1.0057008026365111e-07}\n",
      "incorrect class prediction 3 for class 2: {0: 0.00014239252463787988, 1: 0.0015364339795428394, 2: 0.9380673434315058, 3: 0.957651836182186, 4: 0.6129195055210206, 5: 0.5083410614666366, 6: 0.7932015260867566, 7: 2.3055821474216032e-08}\n",
      "incorrect class prediction 3 for class 2: {0: 4.195643832360929e-12, 1: 0.001876516524643712, 2: 0.956511108090933, 3: 0.9754206450680214, 4: 0.7191745463961177, 5: 0.3792153323138394, 6: 0.779121773888175, 7: 1.4975990447751997e-07}\n",
      "incorrect class prediction 3 for class 2: {0: 0.00048509830779852603, 1: 0.0015322801414604514, 2: 0.8499997211241925, 3: 0.9559650600387042, 4: 0.5857141412823272, 5: 0.5334706819124835, 6: 0.8004032192555239, 7: 1.4413390192480335e-07}\n",
      "incorrect class prediction 3 for class 2: {0: 3.2519044712575607e-07, 1: 0.0015880342089370503, 2: 0.9534067578211033, 3: 0.9608765457796032, 4: 0.6159932987821097, 5: 0.535569016595993, 6: 0.7931091769615491, 7: 4.487387683660415e-09}\n",
      "incorrect class prediction 3 for class 2: {0: 3.7584380052635424e-12, 1: 0.0019426182767373623, 2: 0.9668849874674524, 3: 0.9770302687470608, 4: 0.6987746052518798, 5: 0.38021143437025706, 6: 0.7774226229892887, 7: 7.047219583222741e-06}\n",
      "incorrect class prediction 3 for class 2: {0: 9.270365554203686e-06, 1: 0.0015850251192568443, 2: 0.8392844545962818, 3: 0.9585387079723546, 4: 0.6020573406997286, 5: 0.528579808226892, 6: 0.7931411650767428, 7: 2.823328348888765e-09}\n",
      "incorrect class prediction 3 for class 2: {0: 1.7883160982945512e-05, 1: 0.001530571956003146, 2: 0.9118750364085789, 3: 0.9588555812053334, 4: 0.6268053203339574, 5: 0.5093184906413775, 6: 0.7956614863226295, 7: 1.1895685547713697e-09}\n",
      "incorrect class prediction 3 for class 2: {0: 1.1102230246251565e-16, 1: 0.001976076746297406, 2: 0.9238641347321892, 3: 0.9794155791822192, 4: 0.6986767738382034, 5: 0.42076563519308197, 6: 0.7707030639448751, 7: 2.0266272891866777e-05}\n",
      "incorrect class prediction 3 for class 2: {0: 6.7410521609190255e-12, 1: 0.0018306847535437543, 2: 0.9743823383419211, 3: 0.9750051621752197, 4: 0.7159642631693954, 5: 0.38241135209513366, 6: 0.7852553017981344, 7: 1.8908365828629314e-07}\n",
      "incorrect class prediction 3 for class 2: {0: 3.777255242709554e-05, 1: 0.0015256990212002552, 2: 0.9199443380293119, 3: 0.9578751266462713, 4: 0.6130579781196442, 5: 0.5259198084358183, 6: 0.8002785103615598, 7: 3.362316980393132e-09}\n"
     ]
    },
    {
     "name": "stdout",
     "output_type": "stream",
     "text": [
      "incorrect class prediction 3 for class 2: {0: 0.0005640623543186063, 1: 0.0015888547226572403, 2: 0.7350204410114701, 3: 0.9561120529016839, 4: 0.5582202578128391, 5: 0.5575871457424264, 6: 0.7951631889440893, 7: 1.8299932269538743e-07}\n",
      "incorrect class prediction 3 for class 2: {0: 0.0021025899340541, 1: 0.0015592851551766707, 2: 0.6262674592690516, 3: 0.953549207108141, 4: 0.6361161479943844, 5: 0.5362353980975236, 6: 0.8000108351454869, 7: 1.3828054628017838e-06}\n",
      "incorrect class prediction 3 for class 2: {0: 5.440092820663267e-15, 1: 0.0018794744679050401, 2: 0.8727917681359341, 3: 0.9781731218541804, 4: 0.7094231276416164, 5: 0.4057417538622742, 6: 0.7767127209515203, 7: 1.5146057988357775e-05}\n",
      "incorrect class prediction 3 for class 2: {0: 4.508330701658014e-05, 1: 0.0015711040820218791, 2: 0.9275923974452421, 3: 0.9592081305551129, 4: 0.6440867677430611, 5: 0.4957213908151267, 6: 0.7929300839592797, 7: 4.729405533865361e-09}\n",
      "incorrect class prediction 3 for class 2: {0: 2.0550228185811648e-13, 1: 0.001802725969132779, 2: 0.9645467198130904, 3: 0.9754213617601097, 4: 0.6908146876129935, 5: 0.39208258899202486, 6: 0.7819076049263517, 7: 1.0113003416911681e-06}\n",
      "incorrect class prediction 3 for class 2: {0: 5.225042620793374e-12, 1: 0.0017923609196912604, 2: 0.9379475744323248, 3: 0.9752091295413483, 4: 0.7330507465388242, 5: 0.3992276997195594, 6: 0.7827804819414887, 7: 3.6731261610079e-07}\n",
      "incorrect class prediction 3 for class 2: {0: 5.861977570020827e-14, 1: 0.001918684267248727, 2: 0.9061035682563869, 3: 0.97803183062626, 4: 0.719732824048064, 5: 0.40148606040834867, 6: 0.7803618812549075, 7: 3.994839606191736e-05}\n",
      "incorrect class prediction 3 for class 2: {0: 3.0206038736046992e-05, 1: 0.0015761159362598365, 2: 0.8933972126311056, 3: 0.958868714726795, 4: 0.5949853418051221, 5: 0.5078601802250322, 6: 0.7940625509360763, 7: 2.6822242205071234e-09}\n",
      "incorrect class prediction 3 for class 2: {0: 2.9957182812179184e-07, 1: 0.0016164810650668437, 2: 0.9501217863413837, 3: 0.9603273505231259, 4: 0.5729612069573616, 5: 0.541322657109999, 6: 0.7896448178126915, 7: 2.1029815666651075e-09}\n",
      "incorrect class prediction 3 for class 2: {0: 2.8876160833801734e-05, 1: 0.0017077806700466214, 2: 0.9358455605087737, 3: 0.9622029965273132, 4: 0.5983615969068321, 5: 0.5204223440082367, 6: 0.7899147145148933, 7: 8.630868786330126e-08}\n",
      "incorrect class prediction 3 for class 2: {0: 1.2009191852069279e-06, 1: 0.0015948312920266439, 2: 0.912940605683731, 3: 0.9599846615731991, 4: 0.5843501121857925, 5: 0.5463569878874266, 6: 0.7915910537691158, 7: 2.4486203065166023e-09}\n",
      "incorrect class prediction 3 for class 2: {0: 7.549516567451064e-15, 1: 0.0019093758597483745, 2: 0.966270707908904, 3: 0.9780550213867637, 4: 0.714266027572265, 5: 0.4078027913752714, 6: 0.7763242779203324, 7: 2.5640539686566655e-05}\n",
      "incorrect class prediction 3 for class 2: {0: 1.9322321520576224e-12, 1: 0.001803370397546522, 2: 0.9445006678674244, 3: 0.975122472943725, 4: 0.7250130173440157, 5: 0.37763451322807084, 6: 0.7770657978729723, 7: 1.0490728652445824e-07}\n",
      "incorrect class prediction 3 for class 2: {0: 2.220446049250313e-13, 1: 0.0018784666184850085, 2: 0.8218141243748679, 3: 0.9774576516804125, 4: 0.7250076791541369, 5: 0.407749588088246, 6: 0.7797007667600055, 7: 1.7855602559846417e-06}\n",
      "incorrect class prediction 3 for class 2: {0: 1.1750109336849945e-05, 1: 0.0015641181217150857, 2: 0.9511190987051562, 3: 0.959668976397353, 4: 0.5809696993501046, 5: 0.51341887968276, 6: 0.7954749855316157, 7: 8.497604842006012e-10}\n",
      "incorrect class prediction 3 for class 2: {0: 5.124983770699032e-10, 1: 0.0018019588598769953, 2: 0.9709219625826082, 3: 0.9749899420384733, 4: 0.719491370475925, 5: 0.3808820835430241, 6: 0.7868563024162262, 7: 8.82248705202926e-08}\n",
      "incorrect class prediction 3 for class 2: {0: 2.823222203041098e-05, 1: 0.0014615715866409529, 2: 0.9101136873579643, 3: 0.9546134503981338, 4: 0.5805137581319934, 5: 0.5352270013782436, 6: 0.8008751015233037, 7: 2.1745000244877133e-09}\n",
      "incorrect class prediction 3 for class 2: {0: 1.1102230246251565e-16, 1: 0.0018516466777115381, 2: 0.9295275564091613, 3: 0.9771245622939355, 4: 0.7297562335137673, 5: 0.3883372291085614, 6: 0.7767231913806285, 7: 9.37646633791811e-06}\n",
      "incorrect class prediction 3 for class 2: {0: 2.220446049250313e-16, 1: 0.0019632845217923967, 2: 0.43749364182034955, 3: 0.9801797246617844, 4: 0.7349283051418749, 5: 0.3871961916566913, 6: 0.7782392825423994, 7: 1.2842571060045493e-05}\n",
      "incorrect class prediction 3 for class 2: {0: 0.0002225387999853501, 1: 0.001484456830206149, 2: 0.7510406249904943, 3: 0.9545988956069567, 4: 0.6120701753699908, 5: 0.5435892623834848, 6: 0.7990490955267651, 7: 4.471932379956911e-08}\n",
      "incorrect class prediction 3 for class 2: {0: 9.525091826390053e-11, 1: 0.001804481001046243, 2: 0.9672795768859237, 3: 0.9750083658813931, 4: 0.7251890682493041, 5: 0.4022944684047731, 6: 0.7827751974462828, 7: 2.1426616148012556e-07}\n",
      "incorrect class prediction 3 for class 2: {0: 0.0027879666850246787, 1: 0.0015519915560823216, 2: 0.0891914520534981, 3: 0.9476947481881858, 4: 0.5417555631260147, 5: 0.6129020837681718, 6: 0.8038541336333634, 7: 2.1587944369905188e-06}\n",
      "incorrect class prediction 3 for class 2: {0: 8.37108160567368e-14, 1: 0.0018388786242741206, 2: 0.9603641716945477, 3: 0.9769795179857248, 4: 0.7059567506755408, 5: 0.4114163728233666, 6: 0.7788383897470621, 7: 4.3484607726851365e-06}\n",
      "incorrect class prediction 3 for class 2: {0: 0.0, 1: 0.0021375068270098607, 2: 0.6203192419388412, 3: 0.9828958687718559, 4: 0.7103014170412686, 5: 0.3745184599930823, 6: 0.7705014066794196, 7: 0.0006172355804230367}\n",
      "incorrect class prediction 3 for class 2: {0: 4.943714264404875e-06, 1: 0.001545906707251854, 2: 0.853740803739037, 3: 0.958423221846504, 4: 0.5906371514377595, 5: 0.5275210936523198, 6: 0.794771082682644, 7: 3.3040103986081704e-10}\n",
      "incorrect class prediction 6 for class 3: {0: 0.49919877812696134, 1: 0.4820824328370543, 2: 1.001315752535703e-08, 3: 0.12349804772878203, 4: 0.20997849195702678, 5: 0.2861271095845701, 6: 0.9393321914152617, 7: 0.038867366078601084}\n",
      "incorrect class prediction 6 for class 3: {0: 0.4991997411119572, 1: 0.3896413819109482, 2: 1.001315752535703e-08, 3: 0.49243913209503964, 4: 0.11542200521767565, 5: 0.04576136351061322, 6: 0.943085213515299, 7: 0.03731476787147847}\n",
      "incorrect class prediction 6 for class 3: {0: 0.49919877812696134, 1: 0.5239284272875125, 2: 1.001315752535703e-08, 3: 0.06318555324123276, 4: 0.1997706722353213, 5: 0.3985674327881694, 6: 0.9350184446067311, 7: 0.08385245656113072}\n",
      "incorrect class prediction 6 for class 3: {0: 0.49924358664123714, 1: 0.3196899711602976, 2: 1.001315752535703e-08, 3: 0.9322516845984555, 4: 0.10530196825573412, 5: 0.00036855657847367773, 6: 0.9492090805542658, 7: 0.037405451126058864}\n",
      "incorrect class prediction 6 for class 3: {0: 0.49919877812696134, 1: 0.450001424625304, 2: 1.001315752535703e-08, 3: 0.13534336202102326, 4: 0.19658358132694298, 5: 0.2770669844693594, 6: 0.9405542107150301, 7: 0.03731870705963636}\n",
      "incorrect class prediction 6 for class 3: {0: 0.7335890597626966, 1: 0.3707680187423278, 2: 1.001315752535703e-08, 3: 0.5071577181120779, 4: 0.12017904387333278, 5: 0.03245628065234185, 6: 0.9451405882832901, 7: 0.03893763606634815}\n",
      "incorrect class prediction 6 for class 3: {0: 0.5677055880014452, 1: 0.3613446806388966, 2: 1.001315752535703e-08, 3: 0.5318141416789435, 4: 0.13115545392431538, 5: 0.032387572642194495, 6: 0.9492922837450375, 7: 0.08603055946531912}\n",
      "incorrect class prediction 6 for class 3: {0: 0.49919877812696134, 1: 0.3369084131198804, 2: 1.001315752535703e-08, 3: 0.7890998790088739, 4: 0.09978301582392513, 5: 0.3476263837620366, 6: 0.9485631804307121, 7: 0.12094825483135785}\n",
      "incorrect class prediction 6 for class 3: {0: 0.49919877812696134, 1: 0.4868772834759765, 2: 1.001315752535703e-08, 3: 0.08015917548889562, 4: 0.20299718320353866, 5: 0.4965525603920624, 6: 0.9397860751773716, 7: 0.044782102968753956}\n",
      "incorrect class prediction 6 for class 3: {0: 0.4991987838248254, 1: 0.34323141151903824, 2: 1.001315752535703e-08, 3: 0.7073990033459943, 4: 0.11300241466528138, 5: 0.36420208767734596, 6: 0.9483807760065002, 7: 0.4777221712207418}\n",
      "incorrect class prediction 6 for class 3: {0: 0.5648672977852681, 1: 0.3495033189875866, 2: 1.001315752535703e-08, 3: 0.6417228809130122, 4: 0.11489024706945716, 5: 0.0666197505639613, 6: 0.9469030994227721, 7: 0.4272454893602923}\n",
      "incorrect class prediction 6 for class 3: {0: 0.49919877812696134, 1: 0.5176838928085511, 2: 1.001315752535703e-08, 3: 0.06274481609278737, 4: 0.20030825829337118, 5: 0.4312190516500003, 6: 0.9352493874534014, 7: 0.07723139490755027}\n",
      "incorrect class prediction 6 for class 3: {0: 0.49920843651275304, 1: 0.3208581429519345, 2: 1.001315752535703e-08, 3: 0.9203919760296295, 4: 0.09105286397752677, 5: 0.0015299044031825693, 6: 0.9474959191726893, 7: 0.03748499838472463}\n",
      "incorrect class prediction 6 for class 3: {0: 0.49919877812696145, 1: 0.4060473237449044, 2: 1.001315752535703e-08, 3: 0.2874987673888941, 4: 0.16196390951738882, 5: 0.12947635183059136, 6: 0.9411551299617468, 7: 0.0373147689497918}\n",
      "incorrect class prediction 6 for class 3: {0: 0.5113878285424565, 1: 0.3492399178810238, 2: 1.001315752535703e-08, 3: 0.6405892009014926, 4: 0.11300615793154922, 5: 0.054805096539695675, 6: 0.947970077369078, 7: 0.46959198499797994}\n",
      "incorrect class prediction 6 for class 3: {0: 0.4991987781283903, 1: 0.3599839642318271, 2: 1.001315752535703e-08, 3: 0.6236794029821654, 4: 0.11848714100965696, 5: 0.031633276741791505, 6: 0.9469732837997172, 7: 0.03983179586901198}\n",
      "incorrect class prediction 6 for class 3: {0: 0.5058106303826582, 1: 0.3933909161512672, 2: 1.001315752535703e-08, 3: 0.3701685546552159, 4: 0.13893674895189567, 5: 0.05659200144157228, 6: 0.9473716347715389, 7: 0.03731476793439514}\n",
      "incorrect class prediction 6 for class 3: {0: 0.4991987781270101, 1: 0.45000640211221565, 2: 1.001315752535703e-08, 3: 0.18662472776164574, 4: 0.15031802343152978, 5: 0.2857461853681247, 6: 0.9357176192589441, 7: 0.03731476788084176}\n",
      "incorrect class prediction 6 for class 3: {0: 0.49919877812696134, 1: 0.5553199215989916, 2: 1.001315752535703e-08, 3: 0.06439747451287103, 4: 0.3018914948760544, 5: 0.4452755495061962, 6: 0.942117011724897, 7: 0.09807690279016923}\n",
      "incorrect class prediction 6 for class 3: {0: 0.49919878022100295, 1: 0.4406874046982957, 2: 1.001315752535703e-08, 3: 0.2109580281040272, 4: 0.1958389232384351, 5: 0.14653770923026588, 6: 0.9417666098858939, 7: 0.0373150003823266}\n",
      "incorrect class prediction 6 for class 3: {0: 0.49919877812696134, 1: 0.3190515927062091, 2: 1.001315752535703e-08, 3: 0.8981592915460701, 4: 0.10047020788200345, 5: 0.0026471771572238456, 6: 0.9449568826844853, 7: 0.03731574988754327}\n",
      "incorrect class prediction 6 for class 3: {0: 0.4991987781269619, 1: 0.3423338498666393, 2: 1.001315752535703e-08, 3: 0.7524681038330683, 4: 0.10650266453125445, 5: 0.48601325543475693, 6: 0.9484567512878217, 7: 0.36548989259012843}\n",
      "incorrect class prediction 6 for class 3: {0: 0.4991987784588686, 1: 0.3196535290127456, 2: 1.001315752535703e-08, 3: 0.9250480297645892, 4: 0.09412285180231894, 5: 0.0008752925585542304, 6: 0.9481472730053432, 7: 0.037338566002732665}\n",
      "incorrect class prediction 6 for class 3: {0: 0.4991987781271414, 1: 0.356558028282151, 2: 1.001315752535703e-08, 3: 0.6606221589027298, 4: 0.11691431431747779, 5: 0.1810682901289007, 6: 0.9443206721336944, 7: 0.048993508643786376}\n",
      "incorrect class prediction 6 for class 3: {0: 0.499198778205892, 1: 0.5821943582427387, 2: 1.001315752535703e-08, 3: 0.020963509278859593, 4: 0.25099267210491594, 5: 0.16995432988277892, 6: 0.9336803682219511, 7: 0.09283973238900156}\n",
      "incorrect class prediction 6 for class 3: {0: 0.49919877812696134, 1: 0.817658507074703, 2: 1.001315752535703e-08, 3: 4.933440858267968e-05, 4: 0.5454502792251983, 5: 0.14085309495151965, 6: 0.8726205151729058, 7: 0.03731484320159928}\n",
      "incorrect class prediction 6 for class 3: {0: 0.49919877812696134, 1: 0.5210511143746643, 2: 1.001315752535703e-08, 3: 0.0969126242156263, 4: 0.2423412440186743, 5: 0.34919708200710575, 6: 0.9346443867812343, 7: 0.14151656563166548}\n",
      "incorrect class prediction 6 for class 3: {0: 0.49919877812696134, 1: 0.6508839268315059, 2: 1.001315752535703e-08, 3: 0.027701453648701135, 4: 0.2915178899614408, 5: 0.34315115243702043, 6: 0.9233539350351999, 7: 0.1826859013979092}\n",
      "incorrect class prediction 6 for class 3: {0: 0.49919993583423783, 1: 0.4236328214913849, 2: 1.001315752535703e-08, 3: 0.27216064990298006, 4: 0.13393002138685528, 5: 0.11697490607223981, 6: 0.9445618062783455, 7: 0.03731476787009769}\n",
      "incorrect class prediction 6 for class 3: {0: 0.4991987781278916, 1: 0.47914508352058793, 2: 1.001315752535703e-08, 3: 0.16378981590758035, 4: 0.21729182339511155, 5: 0.1652925273338408, 6: 0.944266229920073, 7: 0.039178375672839216}\n",
      "incorrect class prediction 6 for class 3: {0: 0.4993122667550641, 1: 0.35984604409455967, 2: 1.001315752535703e-08, 3: 0.5308352580760958, 4: 0.13036924957921303, 5: 0.04249098825912501, 6: 0.9489252796070963, 7: 0.2912687093054428}\n",
      "incorrect class prediction 6 for class 3: {0: 0.6264762477429977, 1: 0.3608435286011099, 2: 1.001315752535703e-08, 3: 0.5664422868926373, 4: 0.11971271650868143, 5: 0.021371728726285566, 6: 0.9475647755089132, 7: 0.07699188394251999}\n",
      "incorrect class prediction 6 for class 3: {0: 0.49921621544798567, 1: 0.6113052295196774, 2: 1.001315752535703e-08, 3: 0.022653925887413107, 4: 0.21880646078957722, 5: 0.17145331977923506, 6: 0.9316326111574137, 7: 0.3142881125656082}\n",
      "incorrect class prediction 6 for class 3: {0: 0.49919877812696134, 1: 0.8042063299201866, 2: 1.001315752535703e-08, 3: 0.00010139244878237808, 4: 0.5407669973883068, 5: 0.4096150183006195, 6: 0.8664781171454801, 7: 0.04518348067546507}\n",
      "incorrect class prediction 6 for class 3: {0: 0.5028459701981766, 1: 0.4168762133510824, 2: 1.001315752535703e-08, 3: 0.30442487644227945, 4: 0.16592169951490365, 5: 0.08363163810165586, 6: 0.9420140335510714, 7: 0.03731476787064236}\n",
      "incorrect class prediction 6 for class 3: {0: 0.4992000760645412, 1: 0.3645346124518686, 2: 1.001315752535703e-08, 3: 0.5047469021884585, 4: 0.12517025508385649, 5: 0.053528594151252995, 6: 0.9500763822198024, 7: 0.24173446499183837}\n",
      "incorrect class prediction 6 for class 3: {0: 0.49919877812696134, 1: 0.3327359817117719, 2: 1.001315752535703e-08, 3: 0.8033683997156718, 4: 0.10710149363687527, 5: 0.3081389836949685, 6: 0.952044419666029, 7: 0.0705623234553826}\n",
      "incorrect class prediction 6 for class 3: {0: 0.49920122931071154, 1: 0.6790908986103822, 2: 1.001315752535703e-08, 3: 0.0059716577779537205, 4: 0.288933657361921, 5: 0.2668946299275572, 6: 0.9056190650594347, 7: 0.42911180942947036}\n",
      "incorrect class prediction 6 for class 3: {0: 0.4991987781274527, 1: 0.5552469945560197, 2: 1.001315752535703e-08, 3: 0.034821260473238747, 4: 0.21582259784400937, 5: 0.21034884712173596, 6: 0.9326880987560191, 7: 0.4108992019394191}\n",
      "incorrect class prediction 6 for class 3: {0: 0.49919877812696134, 1: 0.3496865816120117, 2: 1.001315752535703e-08, 3: 0.7294129526891472, 4: 0.11463934839448786, 5: 0.16432949271625263, 6: 0.9453700888835297, 7: 0.05505108561946159}\n",
      "incorrect class prediction 6 for class 3: {0: 0.49919877812696134, 1: 0.5574071386685902, 2: 1.001315752535703e-08, 3: 0.08863086024515798, 4: 0.18619697032928206, 5: 0.43226468415277075, 6: 0.9441226307332146, 7: 0.06297244018431503}\n",
      "incorrect class prediction 6 for class 3: {0: 0.5014600846698851, 1: 0.6682663811747581, 2: 1.001315752535703e-08, 3: 0.007090594700632669, 4: 0.2746175693185505, 5: 0.15599716381908235, 6: 0.916827642910476, 7: 0.3973203130190228}\n",
      "incorrect class prediction 6 for class 3: {0: 0.49919877812704394, 1: 0.3490271751896896, 2: 1.001315752535703e-08, 3: 0.6915618977185078, 4: 0.11406532177196016, 5: 0.3642125391497998, 6: 0.9476744122314427, 7: 0.10533590553812566}\n",
      "incorrect class prediction 6 for class 3: {0: 0.49919877812696134, 1: 0.33733156492840943, 2: 1.001315752535703e-08, 3: 0.8089089178320826, 4: 0.10287352348245216, 5: 0.031136631103801382, 6: 0.9487146660126277, 7: 0.35804766006048083}\n",
      "incorrect class prediction 6 for class 3: {0: 0.49923485169457404, 1: 0.32409192681055665, 2: 1.001315752535703e-08, 3: 0.9065867193874516, 4: 0.10754081821564376, 5: 0.0007487467497134803, 6: 0.9507732199342402, 7: 0.04856007915338656}\n"
     ]
    },
    {
     "name": "stdout",
     "output_type": "stream",
     "text": [
      "incorrect class prediction 6 for class 3: {0: 0.49919877812696134, 1: 0.5066772992966673, 2: 1.001315752535703e-08, 3: 0.06923962756226898, 4: 0.22070645465567662, 5: 0.4639881169606681, 6: 0.9335088968751007, 7: 0.11056148985976266}\n",
      "incorrect class prediction 6 for class 3: {0: 0.5667920079780087, 1: 0.3434071538396509, 2: 1.001315752535703e-08, 3: 0.8431377919805483, 4: 0.0895424559930128, 5: 0.06175724055734255, 6: 0.9520517458305654, 7: 0.042305943730973294}\n",
      "incorrect class prediction 6 for class 3: {0: 0.5104333228011837, 1: 0.40606477756339077, 2: 1.001315752535703e-08, 3: 0.3943828599603483, 4: 0.1734172312288651, 5: 0.03176586327065056, 6: 0.946522048569266, 7: 0.03731476787009491}\n",
      "incorrect class prediction 6 for class 3: {0: 0.510914862134869, 1: 0.6577018205482081, 2: 1.001315752535703e-08, 3: 0.006994267474424221, 4: 0.3084853994446345, 5: 0.20589176307456158, 6: 0.9182750034946773, 7: 0.30420513776993785}\n",
      "incorrect class prediction 6 for class 3: {0: 0.4991987781269649, 1: 0.35447849149228994, 2: 1.001315752535703e-08, 3: 0.6909732860089268, 4: 0.12580729207072094, 5: 0.41592276848955645, 6: 0.9451633302739776, 7: 0.039301863128220704}\n",
      "incorrect class prediction 6 for class 3: {0: 0.49919877812696134, 1: 0.4591962615021524, 2: 1.001315752535703e-08, 3: 0.14142338055129833, 4: 0.16250918685211202, 5: 0.3327004190859262, 6: 0.9397622552777536, 7: 0.03731501526550396}\n",
      "incorrect class prediction 3 for class 4: {0: 0.31566604594841063, 1: 0.599670313665795, 2: 9.188096517154243e-05, 3: 0.660974178866943, 4: 0.4741671435564435, 5: 9.308134164998094e-05, 6: 0.5215105119791656, 7: 0.02731877556957385}\n",
      "incorrect class prediction 3 for class 5: {0: 0.0, 1: 0.0035735549311660675, 2: 0.47496992886342715, 3: 0.9324335040345222, 4: 0.5514743836546389, 5: 0.8849020435509058, 6: 0.9317068758923932, 7: 0.0}\n",
      "incorrect class prediction 6 for class 5: {0: 0.0, 1: 0.00032200621793476714, 2: 0.021565866895370545, 3: 0.9374121271247741, 4: 0.44234644363061404, 5: 0.9178319179407874, 6: 0.9502039122366557, 7: 0.0}\n",
      "incorrect class prediction 6 for class 5: {0: 0.0, 1: 0.22498388727596208, 2: 7.143132051967704e-06, 3: 0.8566092311466682, 4: 0.20643622910022774, 5: 0.9422226366018089, 6: 0.9528310235249973, 7: 0.0}\n",
      "incorrect class prediction 6 for class 5: {0: 0.0, 1: 0.2680730146961343, 2: 0.00024326755712655856, 3: 0.8827771847511212, 4: 0.22819018443769046, 5: 0.9597825013445316, 6: 0.9604147139049457, 7: 0.0}\n",
      "incorrect class prediction 6 for class 5: {0: 0.0, 1: 0.45237442697304453, 2: 2.0602519690271492e-11, 3: 0.8566823692825954, 4: 0.21567718810421233, 5: 0.8890730695609143, 6: 0.955238846799887, 7: 0.0}\n",
      "incorrect class prediction 6 for class 5: {0: 0.0, 1: 0.22493879915773607, 2: 0.0, 3: 0.8415277899389391, 4: 0.20166220421238834, 5: 0.7711544193184197, 6: 0.9545177202384805, 7: 0.0}\n",
      "incorrect class prediction 6 for class 5: {0: 0.0, 1: 0.35157072056272565, 2: 0.0008817412215965659, 3: 0.8802744334855325, 4: 0.1965506690819534, 5: 0.9398112683810118, 6: 0.9611552228611915, 7: 0.0}\n",
      "incorrect class prediction 6 for class 5: {0: 0.0, 1: 0.32798587343257923, 2: 1.1869238147887984e-08, 3: 0.8795994100256205, 4: 0.22155607353077844, 5: 0.9317549989034765, 6: 0.9659705275959712, 7: 0.0}\n",
      "incorrect class prediction 6 for class 5: {0: 0.0, 1: 0.014035282337378607, 2: 0.10152160284299405, 3: 0.9411366333604998, 4: 0.5560261401293404, 5: 0.584140263494785, 6: 0.9672265568546364, 7: 0.0}\n",
      "incorrect class prediction 6 for class 5: {0: 0.0, 1: 0.24882672259962124, 2: 8.217785624442531e-05, 3: 0.8774613573604646, 4: 0.22280284580092358, 5: 0.9569334328967092, 6: 0.9610568087217554, 7: 0.0}\n",
      "incorrect class prediction 6 for class 5: {0: 0.0, 1: 0.022508082010868402, 2: 0.052978822807355774, 3: 0.9366589403602491, 4: 0.5375634525980784, 5: 0.6255524086084812, 6: 0.9595209066498216, 7: 0.0}\n",
      "incorrect class prediction 6 for class 5: {0: 0.0, 1: 0.3517500283992172, 2: 3.776922862130938e-06, 3: 0.8887951229185705, 4: 0.23874742262842186, 5: 0.9599568305171288, 6: 0.9668868274622548, 7: 0.0}\n",
      "incorrect class prediction 3 for class 5: {0: 0.0, 1: 6.662580960048459e-05, 2: 0.08814137818512269, 3: 0.9349897757782033, 4: 0.4755472554754753, 5: 0.9319352683543696, 6: 0.9342933475449281, 7: 0.0}\n",
      "incorrect class prediction 6 for class 5: {0: 0.0, 1: 0.47433158946185394, 2: 3.936527626091646e-08, 3: 0.8801392734354411, 4: 0.2569418772213806, 5: 0.955314823379828, 6: 0.9624947238117516, 7: 0.0}\n",
      "incorrect class prediction 6 for class 5: {0: 0.0, 1: 0.4656080155564315, 2: 5.779376976988715e-12, 3: 0.8590739611894764, 4: 0.23310446363906834, 5: 0.9554336320816751, 6: 0.9595839733190349, 7: 0.0}\n",
      "incorrect class prediction 6 for class 5: {0: 0.0, 1: 0.00257456096239872, 2: 0.25023165930161984, 3: 0.9360893832879182, 4: 0.5829305149780746, 5: 0.7345918279931192, 6: 0.9499714911426016, 7: 0.0}\n",
      "incorrect class prediction 6 for class 5: {0: 0.0, 1: 0.03715554051483161, 2: 0.0, 3: 0.8465549263174422, 4: 0.20723499677023105, 5: 0.6413411997974388, 6: 0.9599315730737065, 7: 0.0}\n",
      "incorrect class prediction 6 for class 5: {0: 0.0, 1: 0.02441608637253978, 2: 0.6605296857382084, 3: 0.9455796337843629, 4: 0.5695500584068414, 5: 0.637102714257163, 6: 0.979883142860343, 7: 0.0}\n",
      "incorrect class prediction 6 for class 5: {0: 0.0, 1: 0.0938553975298726, 2: 0.0, 3: 0.8509394861748031, 4: 0.21114284892449653, 5: 0.7650560130372202, 6: 0.9582259731561217, 7: 0.0}\n",
      "incorrect class prediction 3 for class 5: {0: 0.0, 1: 0.0001631872916783017, 2: 0.1532501159302171, 3: 0.9362031768313432, 4: 0.5689879600246107, 5: 0.8944337882736153, 6: 0.9299564732415678, 7: 0.0}\n",
      "incorrect class prediction 6 for class 5: {0: 0.0, 1: 0.024675168874071507, 2: 0.35075533875131515, 3: 0.9451874647975754, 4: 0.5228406133833191, 5: 0.6557844549373446, 6: 0.9823829863288394, 7: 0.0}\n",
      "incorrect class prediction 6 for class 5: {0: 0.0, 1: 0.003697421842490889, 2: 0.10525475047376309, 3: 0.9390657049589642, 4: 0.4812155785187059, 5: 0.796693561479561, 6: 0.9567381587575033, 7: 0.0}\n",
      "incorrect class prediction 6 for class 5: {0: 0.0, 1: 0.0024030672187799196, 2: 0.06997267211396307, 3: 0.9422460021969594, 4: 0.5449503990540023, 5: 0.6062688807574748, 6: 0.9693084871874588, 7: 0.0}\n",
      "incorrect class prediction 6 for class 5: {0: 0.0, 1: 0.003245337495929479, 2: 0.24539522405288838, 3: 0.9366604160880108, 4: 0.5103830004096241, 5: 0.7801144280666813, 6: 0.953494548688357, 7: 0.0}\n",
      "incorrect class prediction 6 for class 5: {0: 0.0, 1: 0.0014988379077548464, 2: 0.19767505114835637, 3: 0.9354168320420156, 4: 0.4419485305105235, 5: 0.724627925971167, 6: 0.9639593811895657, 7: 0.0}\n",
      "incorrect class prediction 6 for class 5: {0: 0.0, 1: 0.403720634120045, 2: 2.94399988520766e-06, 3: 0.8807192815521334, 4: 0.23658015313076441, 5: 0.955526093757051, 6: 0.9663174385330366, 7: 0.0}\n",
      "incorrect class prediction 6 for class 5: {0: 0.0, 1: 0.48778505846912534, 2: 2.1757170443059692e-07, 3: 0.8764958272625241, 4: 0.22801783822599786, 5: 0.9558032226302832, 6: 0.96499122217048, 7: 0.0}\n",
      "incorrect class prediction 6 for class 5: {0: 0.0, 1: 0.3143498749786363, 2: 9.441025738965436e-11, 3: 0.8821221589983326, 4: 0.23710356279453904, 5: 0.9448281551530349, 6: 0.9665155386570827, 7: 0.0}\n",
      "incorrect class prediction 6 for class 5: {0: 0.0, 1: 0.1523234172737058, 2: 0.0007285650361279483, 3: 0.8734398500179531, 4: 0.21488075089133074, 5: 0.9502682048261225, 6: 0.9566146121604512, 7: 0.0}\n",
      "incorrect class prediction 6 for class 5: {0: 0.0, 1: 0.46362472802216215, 2: 3.968583357494282e-07, 3: 0.8665841445410015, 4: 0.2163572687032953, 5: 0.9082322170410251, 6: 0.9606351648694426, 7: 0.0}\n",
      "incorrect class prediction 6 for class 5: {0: 0.0, 1: 0.3678616984236298, 2: 2.8199664825478976e-14, 3: 0.86962992541192, 4: 0.22398390491330467, 5: 0.9076649655650717, 6: 0.9624981229997455, 7: 0.0}\n",
      "incorrect class prediction 6 for class 5: {0: 0.0, 1: 0.340328318535736, 2: 9.564860015132126e-11, 3: 0.8649057712276957, 4: 0.2204291454035615, 5: 0.8257809023632788, 6: 0.959712831244169, 7: 0.0}\n",
      "incorrect class prediction 3 for class 5: {0: 0.0, 1: 0.00012385163403472177, 2: 0.09179443732340886, 3: 0.9365458084083248, 4: 0.4769359652686298, 5: 0.9255876953120433, 6: 0.9295321620012875, 7: 0.0}\n"
     ]
    },
    {
     "name": "stdout",
     "output_type": "stream",
     "text": [
      "incorrect class prediction 6 for class 5: {0: 0.0, 1: 0.1950312383834356, 2: 0.0003446784083818155, 3: 0.8892948395232393, 4: 0.2296094400506341, 5: 0.9342644676054774, 6: 0.9522085691388451, 7: 0.0}\n",
      "incorrect class prediction 6 for class 5: {0: 0.0, 1: 0.08857267180294837, 2: 0.0, 3: 0.8332390592499039, 4: 0.21808273412401402, 5: 0.6941835986100742, 6: 0.9545963245930866, 7: 0.0}\n",
      "incorrect class prediction 6 for class 5: {0: 0.0, 1: 0.31559432973577894, 2: 8.093525849517391e-14, 3: 0.8537935358105654, 4: 0.2054490030933842, 5: 0.852197842236117, 6: 0.9544847554572268, 7: 0.0}\n",
      "incorrect class prediction 6 for class 5: {0: 0.0, 1: 0.00040008012749293, 2: 0.32769925829223767, 3: 0.9366135020109043, 4: 0.5705976570839195, 5: 0.7365743658247532, 6: 0.9531799179275676, 7: 0.0}\n",
      "incorrect class prediction 6 for class 5: {0: 0.0, 1: 0.24473133816302872, 2: 2.1094237467877974e-15, 3: 0.8610615143591847, 4: 0.21798119691903106, 5: 0.8907563446679959, 6: 0.9643953686933179, 7: 0.0}\n",
      "incorrect class prediction 6 for class 5: {0: 0.0, 1: 0.00027605669061425697, 2: 0.032596248274240014, 3: 0.9353189197080538, 4: 0.45105114490946163, 5: 0.9046036414874662, 6: 0.9381128086210413, 7: 0.0}\n",
      "incorrect class prediction 6 for class 5: {0: 0.0, 1: 0.15244708407818786, 2: 4.5543455895469265e-08, 3: 0.8580285283726142, 4: 0.213373229182781, 5: 0.9519967661758327, 6: 0.9566502591711857, 7: 0.0}\n",
      "incorrect class prediction 6 for class 5: {0: 0.0, 1: 0.004127294187641017, 2: 0.4459964799618674, 3: 0.9371318566098112, 4: 0.5367662517115338, 5: 0.6801248707043088, 6: 0.9633297748560486, 7: 0.0}\n",
      "incorrect class prediction 6 for class 5: {0: 0.0, 1: 0.4404864166178495, 2: 1.7154611064995606e-11, 3: 0.8627983751268257, 4: 0.23640205161775973, 5: 0.9321244109694011, 6: 0.9581204379028683, 7: 0.0}\n",
      "incorrect class prediction 6 for class 5: {0: 0.0, 1: 3.1598988850078946e-05, 2: 0.0021201354717073073, 3: 0.9400620067371493, 4: 0.39092298438893236, 5: 0.9463320694637142, 6: 0.9526651808113389, 7: 0.0}\n",
      "incorrect class prediction 6 for class 5: {0: 0.0, 1: 0.45579274960599114, 2: 0.0, 3: 0.8414188303575894, 4: 0.2061890514921938, 5: 0.8079064698749452, 6: 0.9502076868270812, 7: 0.0}\n",
      "incorrect class prediction 6 for class 5: {0: 0.0, 1: 0.07503278227682042, 2: 0.0, 3: 0.8491601094068768, 4: 0.21705149263587642, 5: 0.7484862402226864, 6: 0.9548772150289753, 7: 0.0}\n",
      "incorrect class prediction 3 for class 6: {0: 0.41130330673787785, 1: 0.6316715636422265, 2: 2.7390143486627494e-09, 3: 0.8002355379890459, 4: 0.09014577477469687, 5: 2.6360802729552546e-06, 6: 0.43639683153595654, 7: 0.06142328701252975}\n",
      "incorrect class prediction 3 for class 6: {0: 0.043653279098394226, 1: 0.5724452932169612, 2: 1.6930901125533637e-13, 3: 0.873807384699901, 4: 0.1248971246359798, 5: 3.1400937405834384e-10, 6: 0.6815532134399842, 7: 0.7795064596415486}\n",
      "incorrect class prediction 3 for class 6: {0: 0.19174430440806534, 1: 0.7601345529257273, 2: 5.165112781924108e-11, 3: 0.9006953682845112, 4: 0.26517032306751265, 5: 0.5524480043293432, 6: 0.8770238455507678, 7: 0.18521288183112317}\n",
      "incorrect class prediction 3 for class 6: {0: 0.03752144160951654, 1: 0.6159545571273088, 2: 2.6789681584205027e-13, 3: 0.8665738411262948, 4: 0.4871371490056342, 5: 0.012006921466265363, 6: 0.7800486329595411, 7: 0.48917093415826307}\n",
      "incorrect class prediction 3 for class 6: {0: 0.31726209381750214, 1: 0.4632336078256789, 2: 1.2954695927103188e-07, 3: 0.7917210676321591, 4: 0.1053493577870781, 5: 0.0, 6: 0.3219031112817221, 7: 0.014010624020789675}\n",
      "incorrect class prediction 3 for class 6: {0: 0.3822279258218553, 1: 0.4748237227692266, 2: 1.4085815291942083e-08, 3: 0.9101126085709306, 4: 0.30028958465071787, 5: 0.0001341944877601975, 6: 0.8049271839840255, 7: 0.0699172871178173}\n",
      "incorrect class prediction 3 for class 6: {0: 0.37199174711387994, 1: 0.5913537309156663, 2: 1.4997536545990897e-09, 3: 0.8809617014811687, 4: 0.09636675208954903, 5: 3.3671954113856373e-12, 6: 0.4143791167883951, 7: 0.07383852784148848}\n",
      "incorrect class prediction 3 for class 6: {0: 0.262205587204166, 1: 0.2876621521965025, 2: 0.0008578881466748678, 3: 0.9529701016772232, 4: 0.06219836024507397, 5: 0.45685354606173767, 6: 0.8325810024449474, 7: 0.007609165817564101}\n",
      "incorrect class prediction 3 for class 6: {0: 0.4308418823811717, 1: 0.3591682263169933, 2: 2.6029303601404763e-08, 3: 0.8976075342009374, 4: 0.4817094791863681, 5: 0.3961747142865458, 6: 0.8847509774757605, 7: 0.17484185700117327}\n",
      "incorrect class prediction 3 for class 6: {0: 0.07706776158476247, 1: 0.6474290503505027, 2: 0.12609819047817872, 3: 0.8601841962576658, 4: 0.16067775059010803, 5: 0.0725526072594933, 6: 0.8247942639347969, 7: 0.0006235064112982691}\n",
      "incorrect class prediction 3 for class 6: {0: 0.16500074016746769, 1: 0.6723873359964394, 2: 9.582959056142482e-05, 3: 0.9539521449524329, 4: 0.05646069126383346, 5: 0.6365946704545262, 6: 0.914606649738251, 7: 0.21433864697698302}\n",
      "incorrect class prediction 3 for class 6: {0: 0.08057504161101214, 1: 0.4083266594938837, 2: 1.9097365910880626e-09, 3: 0.8720694528449202, 4: 0.08000910404150363, 5: 0.42443628491799557, 6: 0.6083953192662582, 7: 0.36027494111207237}\n",
      "incorrect class prediction 3 for class 6: {0: 0.07862787424180051, 1: 0.4505963703266578, 2: 1.2635365596036507e-05, 3: 0.8805701855192223, 4: 0.16005203850514593, 5: 0.2553444936570205, 6: 0.5478271962836456, 7: 0.004624121892989219}\n",
      "incorrect class prediction 3 for class 6: {0: 0.0317224251040128, 1: 0.4648936839932697, 2: 3.507967906135612e-05, 3: 0.8594635195462055, 4: 0.3182346358070156, 5: 0.32549182696933565, 6: 0.5435359638017465, 7: 0.4585115240417278}\n",
      "incorrect class prediction 3 for class 6: {0: 0.07706776158476247, 1: 0.2771521359723248, 2: 0.224251762890329, 3: 0.8935910621437751, 4: 0.16034857263371938, 5: 0.0, 6: 0.18114815477328283, 7: 0.010017385380376331}\n",
      "incorrect class prediction 3 for class 6: {0: 0.49490350259650384, 1: 0.6325403015014264, 2: 0.005199764446602084, 3: 0.9041232784899191, 4: 0.09371181541841611, 5: 5.246839279460236e-05, 6: 0.5390696651412088, 7: 0.036433033810917004}\n",
      "incorrect class prediction 3 for class 6: {0: 0.033702330934288316, 1: 0.611210329960563, 2: 0.4781884425245989, 3: 0.8605699575142385, 4: 0.2171493842512422, 5: 0.21578764347856982, 6: 0.8253611248598294, 7: 0.46944346962237415}\n",
      "incorrect class prediction 3 for class 6: {0: 0.19174430440806534, 1: 0.5463712057060204, 2: 5.165112781924108e-11, 3: 0.894450919810916, 4: 0.3305616853118777, 5: 0.49290206557093785, 6: 0.7923158843166397, 7: 0.18521301964840742}\n",
      "incorrect class prediction 3 for class 6: {0: 0.1349055514607138, 1: 0.6201656247814802, 2: 0.11200866206538618, 3: 0.9483028585860497, 4: 0.06522247588377494, 5: 0.8482071433049955, 6: 0.9328636206978052, 7: 0.0018585799583611395}\n",
      "incorrect class prediction 3 for class 6: {0: 0.12456968699654991, 1: 0.7626937394570055, 2: 0.16939642828676904, 3: 0.8288803870167055, 4: 0.21775655867122024, 5: 0.010404853669940262, 6: 0.398713934421546, 7: 0.3051049924521141}\n",
      "incorrect class prediction 3 for class 6: {0: 0.050006497619263346, 1: 0.26896937413606414, 2: 0.001251173230122249, 3: 0.9574674008049688, 4: 0.052891035114393525, 5: 0.5524796815039176, 6: 0.7657360513640574, 7: 0.45605959011124253}\n",
      "incorrect class prediction 3 for class 6: {0: 0.0456945562629224, 1: 0.6150523240715005, 2: 0.16422915158922036, 3: 0.957976137652311, 4: 0.05489036513856149, 5: 0.8834603891856287, 6: 0.9540476626367889, 7: 0.47357816359934957}\n",
      "incorrect class prediction 3 for class 6: {0: 0.12568323848308816, 1: 0.4425298568926028, 2: 1.9620191068270287e-05, 3: 0.9000568989018597, 4: 0.24953792305082756, 5: 0.4906838599278053, 6: 0.5751337709650615, 7: 0.2690021435146305}\n",
      "incorrect class prediction 3 for class 6: {0: 0.2225823174350443, 1: 0.6737760859045223, 2: 0.5354178172191875, 3: 0.9548769327264938, 4: 0.05692748420644711, 5: 0.6454921933367737, 6: 0.9199281635874754, 7: 0.1721740128479723}\n",
      "incorrect class prediction 3 for class 6: {0: 0.19138360841612556, 1: 0.27279078152900305, 2: 2.062274469072367e-05, 3: 0.8862171044741283, 4: 0.2825783548556091, 5: 0.41492005661238873, 6: 0.8547875063603236, 7: 0.3469713673733602}\n",
      "incorrect class prediction 3 for class 6: {0: 0.4478143465949658, 1: 0.6468012628948516, 2: 2.0553026613967518e-08, 3: 0.8992717226072534, 4: 0.09694394967045772, 5: 3.835387563100312e-11, 6: 0.6729730942384309, 7: 0.0278153501070324}\n"
     ]
    },
    {
     "name": "stdout",
     "output_type": "stream",
     "text": [
      "incorrect class prediction 3 for class 6: {0: 0.033702330934288316, 1: 0.6082431791725302, 2: 0.00045388432919124533, 3: 0.8727147729346011, 4: 0.17630415926758014, 5: 0.0006968702178531405, 6: 0.7410589641185623, 7: 0.46944346962237415}\n",
      "incorrect class prediction 1 for class 7: {0: 0.00020765169806613581, 1: 0.6595225541613852, 2: 7.940650581517161e-09, 3: 0.6393210126724165, 4: 0.1937401918896534, 5: 0.0, 6: 0.2578114670256416, 7: 0.35555383402767426}\n",
      "incorrect class prediction 1 for class 7: {0: 1.56861070941261e-05, 1: 0.6714920061782955, 2: 5.950460124637402e-09, 3: 0.6362060888402727, 4: 0.19722467910145813, 5: 0.0, 6: 0.2569224506294969, 7: 0.5432612494033031}\n",
      "incorrect class prediction 1 for class 7: {0: 0.006470377944210015, 1: 0.6621171494742855, 2: 3.783230640985735e-07, 3: 0.6440040125116836, 4: 0.20335464609079734, 5: 0.0, 6: 0.26196460375559893, 7: 0.632898428456875}\n",
      "incorrect class prediction 1 for class 7: {0: 0.00024464384903721825, 1: 0.6590845393055758, 2: 5.9484315806379584e-08, 3: 0.6415383612316337, 4: 0.19806337460694456, 5: 0.0, 6: 0.25856511345606936, 7: 0.5102144558914294}\n",
      "incorrect class prediction 3 for class 7: {0: 3.175189367943254e-05, 1: 0.6414407253342672, 2: 5.49960718088105e-06, 3: 0.6461117180042311, 4: 0.19450451275984004, 5: 0.0, 6: 0.25757576737145116, 7: 0.4494972757083565}\n",
      "incorrect class prediction 1 for class 7: {0: 0.3031746503839621, 1: 0.8095841623731066, 2: 4.818313525944973e-10, 3: 0.647061163029667, 4: 0.24739261566702164, 5: 0.0, 6: 0.5195089822293126, 7: 0.5016789541137703}\n"
     ]
    },
    {
     "data": {
      "text/plain": [
       "0.9399519615692554"
      ]
     },
     "execution_count": 21,
     "metadata": {},
     "output_type": "execute_result"
    }
   ],
   "source": [
    "print('actually running')\n",
    "num = 8\n",
    "cats = num if num <= 8 else 8\n",
    "X = []\n",
    "y = []\n",
    "for i in range(cats):\n",
    "        x = pd.read_csv(data_location_AT[i], header = None, sep = ' ').iloc[:,:].values\n",
    "        for b in x:\n",
    "            X.append(b)\n",
    "            y.append(i)\n",
    "            \n",
    "def customNorm(X):\n",
    "    x = X\n",
    "    for feature in range(X.shape[1]):\n",
    "                x[:,feature] = X[:,feature]/np.max(X[:, feature])\n",
    "    return x            \n",
    "\n",
    "# #print(len(X), len(X[0]))\n",
    "X = np.asarray(X)\n",
    "#print(\"data shape should be:\", X.shape)\n",
    "y = np.asarray(y) \n",
    "print(np.sum(X+.01 == 0))\n",
    "x = customNorm(X)\n",
    "print(np.max(x))\n",
    "print(np.sum(x == 0))\n",
    "test_class = FDC(x,y, model = 'gamma')\n",
    "# print(\"going to fit the class\")\n",
    "test_class.fit()\n",
    "# for index, point in enumerate(x):\n",
    "#     print(test_class.predict(point, explicit = True))\n",
    "# print(test_class.alphas)\n",
    "test_class.score()"
   ]
  },
  {
   "cell_type": "code",
   "execution_count": 23,
   "metadata": {
    "ExecuteTime": {
     "end_time": "2020-05-28T21:39:00.363091Z",
     "start_time": "2020-05-28T21:38:58.619207Z"
    },
    "scrolled": true
   },
   "outputs": [
    {
     "name": "stdout",
     "output_type": "stream",
     "text": [
      "{0: {0: array([3.54253728e+04, 1.68147324e-05]), 1: array([8.66735242e+03, 4.27283689e-07]), 2: array([6.91501676e+01, 2.39494599e-06]), 3: array([3.80211700e+03, 1.32890361e-06]), 4: array([3.51316673e+03, 1.14233481e-09]), 5: array([3.19158066e+02, 3.38313885e-07]), 6: array([6.37869531e+01, 3.64767413e-08]), 7: array([nan, nan]), 8: array([nan, nan]), 9: array([2.11501983e+03, 2.38868752e-06]), 10: array([2.00578353e+03, 1.03223566e-08]), 11: array([1.66739377e+03, 2.09561588e-12]), 12: array([5.46967609e+01, 2.72992275e-09]), 13: array([6.22625121e+01, 8.14214222e-08]), 14: array([5.43996610e+01, 5.89672096e-11]), 15: array([7.58038540e+02, 2.60170839e-07]), 16: array([2.85907943e+02, 4.94932840e-08]), 17: array([nan, nan]), 18: array([nan, nan]), 19: array([nan, nan]), 20: array([nan, nan]), 21: array([6.48477718e+00, 4.66509326e-08]), 22: array([nan, nan]), 23: array([nan, nan]), 24: array([nan, nan]), 25: array([nan, nan]), 26: array([nan, nan]), 27: array([nan, nan]), 28: array([nan, nan]), 29: array([nan, nan])}, 1: {0: array([4.43510706e+04, 1.33940590e-05]), 1: array([1.45173611e+03, 9.73156801e-06]), 2: array([5.03880750e+02, 1.24614167e-03]), 3: array([4.68196569e+02, 1.74303505e-04]), 4: array([3.15827121e+02, 2.68132221e-07]), 5: array([1.70465977e+01, 5.35455561e-03]), 6: array([6.46744143e+02, 6.37631314e-05]), 7: array([5.96646203, 0.00653615]), 8: array([9.06595661e+01, 9.61774360e-03]), 9: array([3.06867032e+02, 9.69699894e-04]), 10: array([2.03738441e+02, 8.34337317e-06]), 11: array([1.34095759e+02, 3.10158209e-09]), 12: array([6.35961986e+02, 1.89517075e-05]), 13: array([8.31504040e+02, 3.08975416e-04]), 14: array([6.42303574e+02, 4.05044861e-07]), 15: array([1.01382289e+02, 3.91762502e-03]), 16: array([1.65428397e+01, 3.31678721e-03]), 17: array([6.14548532e+00, 1.25992783e-04]), 18: array([6.29054420e+02, 2.66343453e-05]), 19: array([5.7108327 , 0.01121262]), 20: array([4.22927993e+00, 1.04548520e-03]), 21: array([6.53757926e+02, 1.12809661e-03]), 22: array([2.54939154e+00, 1.96122712e-05]), 23: array([8.62140158e+01, 1.66055640e-03]), 24: array([2.99135998, 0.00699184]), 25: array([2.97575439, 0.06694763]), 26: array([3.70074681e+02, 1.88358078e-04]), 27: array([nan, nan]), 28: array([1.02446133, 0.17889077]), 29: array([25.49471405,  0.03139426])}, 2: {0: array([3.42533004e+04, 1.79284229e-05]), 1: array([6.06468195e+03, 2.68113586e-07]), 2: array([3.43036931e+03, 3.97303642e-05]), 3: array([2.27730083e+03, 4.52143789e-07]), 4: array([1.47896421e+03, 1.75425323e-10]), 5: array([5.66235248e+02, 1.50541408e-06]), 6: array([1.68807132e+03, 2.63411117e-07]), 7: array([1.12439325e+03, 1.47772918e-06]), 8: array([6.60600601e+02, 1.04101153e-05]), 9: array([1.05916335e+03, 4.34785625e-07]), 10: array([8.12011481e+02, 7.59944246e-10]), 11: array([2.10293648e+02, 2.46887231e-14]), 12: array([7.70534669e+02, 7.83350688e-09]), 13: array([9.30441828e+02, 5.10159788e-07]), 14: array([6.03169932e+02, 7.89144371e-11]), 15: array([3.08141652e+02, 1.26244053e-06]), 16: array([3.96376532e+02, 7.52582313e-08]), 17: array([5.58257723e+02, 1.20283689e-09]), 18: array([6.15101982e+02, 3.57271579e-07]), 19: array([6.77111324e+02, 3.19109852e-07]), 20: array([nan, nan]), 21: array([3.66371617e+02, 1.60092874e-06]), 22: array([3.45956645e+02, 5.99973591e-10]), 23: array([4.97083189e+02, 7.62316685e-08]), 24: array([4.72248047e+02, 5.09831814e-07]), 25: array([1.72288903e+02, 8.28685522e-07]), 26: array([3.75111136e+02, 4.16205729e-07]), 27: array([2.28685864e+02, 7.50908654e-07]), 28: array([2.73520026e+02, 1.30206914e-06]), 29: array([1.63683969e+02, 1.19716625e-06])}, 3: {0: array([nan, nan]), 1: array([1.58560303e+01, 1.73495068e-04]), 2: array([1.29675571e+01, 1.23418171e-02]), 3: array([2.73228689e+00, 1.38244927e-03]), 4: array([2.64692979e+00, 5.69914390e-07]), 5: array([2.46820581e+00, 1.55445549e-03]), 6: array([2.48854685e+00, 5.42881332e-04]), 7: array([2.32773225e+00, 1.73621346e-03]), 8: array([2.15801769, 0.00599154]), 9: array([1.10513138, 0.00427461]), 10: array([1.07361788e+00, 9.38828026e-06]), 11: array([1.04715875e+00, 3.90017702e-10]), 12: array([1.03743220e+00, 6.34756819e-05]), 13: array([1.04765739, 0.0037873 ]), 14: array([1.02077055e+00, 7.65043896e-07]), 15: array([1.0097745 , 0.00457276]), 16: array([1.02730781e+00, 4.27924983e-04]), 17: array([9.92923333e-01, 7.91676830e-06]), 18: array([0.99674453, 0.00164246]), 19: array([1.00437517, 0.00155219]), 20: array([9.70030396e-01, 8.03643696e-06]), 21: array([0.98793197, 0.00672334]), 22: array([9.63509735e-01, 2.31441755e-06]), 23: array([9.64072072e-01, 2.75455782e-04]), 24: array([0.9646057 , 0.00175082]), 25: array([0.95906187, 0.00178201]), 26: array([0.9356076 , 0.00097153]), 27: array([0.93671057, 0.00161195]), 28: array([0.90620543, 0.0020572 ]), 29: array([0.8722974 , 0.00096635])}, 4: {0: array([5.55771401e+01, 1.34510645e-02]), 1: array([1.99778854, 0.12796142]), 2: array([10.73965363,  0.04251983]), 3: array([8.03193983, 0.06467275]), 4: array([0.91987808, 0.15231459]), 5: array([1.08478225e+01, 2.79855923e-05]), 6: array([2.91752201, 0.11903631]), 7: array([2.41677487, 0.11440964]), 8: array([4.76544599, 0.03903362]), 9: array([14.06397852,  0.03013407]), 10: array([1.87056942, 0.14200024]), 11: array([nan, nan]), 12: array([2.53193826, 0.11957458]), 13: array([8.43132915, 0.05442791]), 14: array([0.9674261, 0.1763172]), 15: array([5.28262890e+00, 4.05642997e-05]), 16: array([1.05661275e+01, 5.29446683e-05]), 17: array([1.09732241, 0.15818373]), 18: array([4.22546841, 0.10254081]), 19: array([4.9308209, 0.0673045]), 20: array([nan, nan]), 21: array([5.76020644e+00, 1.28600202e-04]), 22: array([1.56258883, 0.0556667 ]), 23: array([2.79253855, 0.10798255]), 24: array([2.88698892, 0.12733384]), 25: array([5.00017449e+00, 3.22114439e-05]), 26: array([2.25998987, 0.1362469 ]), 27: array([5.37312455e+00, 1.97930265e-04]), 28: array([2.30440975, 0.11105155]), 29: array([2.5960464 , 0.02317998])}, 5: {0: array([4.50359963e+15, 1.44201120e-16]), 1: array([6.74900680e+02, 1.78081932e-05]), 2: array([1.71897248e+02, 1.68260935e-05]), 3: array([3.37058783e+02, 1.20666093e-04]), 4: array([3.12420586e+01, 6.35467643e-06]), 5: array([2.43477483e+02, 1.59336542e-05]), 6: array([3.22627313e+01, 1.65814912e-05]), 7: array([1.70410529e+01, 2.92480890e-06]), 8: array([7.82622807e+00, 5.92684607e-07]), 9: array([3.16631654e+02, 2.84153679e-04]), 10: array([3.52639057e+01, 6.51699158e-05]), 11: array([7.84265714e+00, 6.80150014e-07]), 12: array([1.81891414e+01, 2.17390655e-05]), 13: array([3.96805151e+01, 5.72555318e-05]), 14: array([9.02878044e+00, 2.39147777e-06]), 15: array([2.80711369e+02, 4.93854344e-05]), 16: array([4.92517143e+01, 1.18353368e-04]), 17: array([7.56705936e+00, 7.99310414e-07]), 18: array([9.93711459e+00, 8.93535821e-06]), 19: array([1.52021743e+01, 1.18207007e-05]), 20: array([2.88629742e+01, 3.10428692e-06]), 21: array([2.75802148e+01, 8.62450584e-05]), 22: array([4.26188638e+00, 3.10809206e-08]), 23: array([5.47042324e+00, 7.54951844e-07]), 24: array([7.63385528e+00, 3.02415749e-06]), 25: array([2.29535117e+01, 4.12962736e-06]), 26: array([3.96596600e+00, 2.72991068e-07]), 27: array([9.28363728e+00, 4.78706521e-07]), 28: array([nan, nan]), 29: array([nan, nan])}, 6: {0: array([2.97917168e+04, 1.99907484e-05]), 1: array([2.20797944e+01, 6.48376779e-04]), 2: array([1.48044853e+01, 1.71245936e-03]), 3: array([9.33635062e+00, 6.22161152e-03]), 4: array([2.71142658e+00, 5.08833722e-05]), 5: array([5.35762451, 0.04169827]), 6: array([4.20105520e+00, 3.07227195e-04]), 7: array([3.89833865e+00, 2.81888336e-04]), 8: array([3.22340784e+00, 4.44978085e-05]), 9: array([3.3843536 , 0.06446111]), 10: array([2.95461430e+00, 5.46623828e-04]), 11: array([9.46186119e-01, 2.24571934e-06]), 12: array([1.70675706e+00, 1.88370323e-04]), 13: array([2.99657311e+00, 2.62454890e-03]), 14: array([1.34689309e+00, 1.24223417e-05]), 15: array([1.87440799, 0.07623926]), 16: array([2.20923185, 0.05800555]), 17: array([1.27764329e+00, 1.87580071e-05]), 18: array([1.52384776e+00, 2.21820244e-04]), 19: array([2.68263715e+00, 4.71732069e-04]), 20: array([1.58896073, 0.04109797]), 21: array([1.79725676, 0.02912553]), 22: array([1.12152937e+00, 7.99875120e-06]), 23: array([1.59825937e+00, 1.06916456e-05]), 24: array([1.4647124e+00, 1.7285381e-04]), 25: array([1.76100254, 0.00961143]), 26: array([1.46283687e+00, 1.75919488e-05]), 27: array([1.38922809e+00, 6.18804488e-04]), 28: array([1.29763054e+00, 1.13275754e-05]), 29: array([1.14297401e+00, 2.71415994e-07])}, 7: {0: array([3.63074280e+04, 1.62538596e-05]), 1: array([4.09008649e+03, 8.84383601e-06]), 2: array([2.05864777e+03, 4.25732687e-05]), 3: array([4.04345231e+03, 6.22876692e-05]), 4: array([4.31513387e+02, 5.14826075e-06]), 5: array([1.56575090e+03, 7.66226969e-05]), 6: array([1.38535068e+03, 2.41139018e-05]), 7: array([9.20414142e+02, 1.76171543e-05]), 8: array([3.64725848e+02, 2.55079700e-05]), 9: array([2.68426801e+03, 3.01474974e-04]), 10: array([1.32903331e+03, 2.44586212e-05]), 11: array([1.35282936e+02, 1.55793096e-06]), 12: array([1.32777681e+03, 2.39961818e-05]), 13: array([1.81948468e+03, 8.59938059e-05]), 14: array([3.26268681e+02, 1.04141269e-05]), 15: array([1.08406416e+03, 4.82656038e-04]), 16: array([1.41741298e+03, 1.87106305e-04]), 17: array([6.03011406e+02, 5.41364918e-06]), 18: array([4.89058228e+02, 9.81005273e-05]), 19: array([9.21445598e+02, 6.50283121e-05]), 20: array([4.71973859e+02, 2.57883931e-05]), 21: array([9.95170006e+02, 5.35320729e-04]), 22: array([3.44799602e+02, 8.31448732e-07]), 23: array([4.48920271e+02, 2.15065555e-05]), 24: array([6.77529987e+02, 5.42922783e-05]), 25: array([4.92755358e+02, 1.71811944e-04]), 26: array([4.04266747e+02, 1.94770055e-05]), 27: array([3.89497956e+02, 5.17720992e-05]), 28: array([2.57729375e+02, 2.22403145e-05]), 29: array([1.22366168e+02, 7.43993692e-06])}}\n"
     ]
    }
   ],
   "source": [
    "print(test_class.alphas)\n",
    "\n",
    "# print('apples')\n",
    "# test_class.fit()\n",
    "# print(test_class.alphas)"
   ]
  },
  {
   "cell_type": "code",
   "execution_count": 43,
   "metadata": {
    "ExecuteTime": {
     "end_time": "2020-05-22T05:56:05.391529Z",
     "start_time": "2020-05-22T05:56:05.389513Z"
    }
   },
   "outputs": [],
   "source": [
    "b = test_class.fitting_points\n",
    "# gamma_mle(test_class.fitting_points)"
   ]
  },
  {
   "cell_type": "code",
   "execution_count": 44,
   "metadata": {
    "ExecuteTime": {
     "end_time": "2020-05-22T05:56:06.070650Z",
     "start_time": "2020-05-22T05:56:06.065664Z"
    }
   },
   "outputs": [
    {
     "data": {
      "text/plain": [
       "(499, 30)"
      ]
     },
     "execution_count": 44,
     "metadata": {},
     "output_type": "execute_result"
    }
   ],
   "source": [
    "b.shape"
   ]
  },
  {
   "cell_type": "code",
   "execution_count": 50,
   "metadata": {
    "ExecuteTime": {
     "end_time": "2020-05-22T05:59:02.384816Z",
     "start_time": "2020-05-22T05:59:02.377818Z"
    },
    "scrolled": true
   },
   "outputs": [
    {
     "name": "stdout",
     "output_type": "stream",
     "text": [
      "calculated the initial values [[-0.52740254 -0.52741631]\n",
      " [-3.31946844 -3.31959069]\n",
      " [-2.43447938 -2.43472225]\n",
      " [-1.37889294 -1.3790166 ]\n",
      " [-6.10955308 -6.1107118 ]\n",
      " [-2.12049642 -2.12081576]\n",
      " [-3.39901346 -3.39937438]\n",
      " [-4.12181373 -4.12235697]\n",
      " [-4.67737363 -4.67874453]\n",
      " [-0.21166021 -0.21184648]\n",
      " [-3.42632068 -3.42669689]\n",
      " [-8.46478352 -8.46847948]\n",
      " [-3.44635458 -3.44673115]\n",
      " [-1.85492669 -1.85520149]\n",
      " [-5.6846261  -5.68615858]\n",
      " [-0.64773393 -0.64819516]\n",
      " [-1.32724498 -1.32759774]\n",
      " [-5.72465105 -5.72548023]\n",
      " [-3.03703626 -3.03805863]\n",
      " [-2.81474407 -2.8152867 ]\n",
      " [-4.40866245 -4.40972183]\n",
      " [-0.62973091 -0.63023334]\n",
      " [-8.15713281 -8.15858293]\n",
      " [-4.64030746 -4.64142124]\n",
      " [-3.30267473 -3.30341271]\n",
      " [-2.46909721 -2.47011191]\n",
      " [-4.84420107 -4.84543788]\n",
      " [-3.90380056 -3.90508427]\n",
      " [-5.16169385 -5.16363387]\n",
      " [-7.00163026 -7.00571636]]\n",
      "on iteration 0 for calcuating k ([36307.42795691  4090.08648655  2058.64776525  4043.45231072\n",
      "   431.51338682  1565.75090197  1385.35067712   920.41414203\n",
      "   364.72584822  2684.26800499  1329.03330985   135.28293578\n",
      "  1327.77680546  1819.48468401   326.26868059  1084.06415804\n",
      "  1417.4129828    603.0114063    489.05822848   921.445598\n",
      "   471.97385889   995.17000639   344.79960162   448.92027079\n",
      "   677.52998694   492.75535758   404.26674676   389.49795599\n",
      "   257.72937521   122.36616821])\n",
      "on iteration 1 for calcuating k ([36307.42795691  4090.08648655  2058.64776525  4043.45231072\n",
      "   431.51338682  1565.75090197  1385.35067712   920.41414203\n",
      "   364.72584822  2684.26800499  1329.03330985   135.28293578\n",
      "  1327.77680546  1819.48468401   326.26868059  1084.06415804\n",
      "  1417.4129828    603.0114063    489.05822848   921.445598\n",
      "   471.97385889   995.17000639   344.79960162   448.92027079\n",
      "   677.52998694   492.75535758   404.26674676   389.49795599\n",
      "   257.72937521   122.36616821])\n",
      "on iteration 2 for calcuating k ([36307.42795691  4090.08648655  2058.64776525  4043.45231072\n",
      "   431.51338682  1565.75090197  1385.35067712   920.41414203\n",
      "   364.72584822  2684.26800499  1329.03330985   135.28293578\n",
      "  1327.77680546  1819.48468401   326.26868059  1084.06415804\n",
      "  1417.4129828    603.0114063    489.05822848   921.445598\n",
      "   471.97385889   995.17000639   344.79960162   448.92027079\n",
      "   677.52998694   492.75535758   404.26674676   389.49795599\n",
      "   257.72937521   122.36616821])\n",
      "on iteration 3 for calcuating k ([36307.42795691  4090.08648655  2058.64776525  4043.45231072\n",
      "   431.51338682  1565.75090197  1385.35067712   920.41414203\n",
      "   364.72584822  2684.26800499  1329.03330985   135.28293578\n",
      "  1327.77680546  1819.48468401   326.26868059  1084.06415804\n",
      "  1417.4129828    603.0114063    489.05822848   921.445598\n",
      "   471.97385889   995.17000639   344.79960162   448.92027079\n",
      "   677.52998694   492.75535758   404.26674676   389.49795599\n",
      "   257.72937521   122.36616821])\n",
      "[[3.63074280e+04 1.62538596e-05]\n",
      " [4.09008649e+03 8.84383601e-06]\n",
      " [2.05864777e+03 4.25732687e-05]\n",
      " [4.04345231e+03 6.22876692e-05]\n",
      " [4.31513387e+02 5.14826075e-06]\n",
      " [1.56575090e+03 7.66226969e-05]\n",
      " [1.38535068e+03 2.41139018e-05]\n",
      " [9.20414142e+02 1.76171543e-05]\n",
      " [3.64725848e+02 2.55079700e-05]\n",
      " [2.68426800e+03 3.01474974e-04]\n",
      " [1.32903331e+03 2.44586212e-05]\n",
      " [1.35282936e+02 1.55793096e-06]\n",
      " [1.32777681e+03 2.39961818e-05]\n",
      " [1.81948468e+03 8.59938059e-05]\n",
      " [3.26268681e+02 1.04141269e-05]\n",
      " [1.08406416e+03 4.82656038e-04]\n",
      " [1.41741298e+03 1.87106305e-04]\n",
      " [6.03011406e+02 5.41364918e-06]\n",
      " [4.89058228e+02 9.81005273e-05]\n",
      " [9.21445598e+02 6.50283121e-05]\n",
      " [4.71973859e+02 2.57883931e-05]\n",
      " [9.95170006e+02 5.35320729e-04]\n",
      " [3.44799602e+02 8.31448732e-07]\n",
      " [4.48920271e+02 2.15065555e-05]\n",
      " [6.77529987e+02 5.42922783e-05]\n",
      " [4.92755358e+02 1.71811944e-04]\n",
      " [4.04266747e+02 1.94770055e-05]\n",
      " [3.89497956e+02 5.17720992e-05]\n",
      " [2.57729375e+02 2.22403145e-05]\n",
      " [1.22366168e+02 7.43993692e-06]]\n"
     ]
    }
   ],
   "source": [
    "print(gamma_mle(b))\n",
    "\n",
    "# for i in range(0,30):\n",
    "#     print(gamma_mle(b[i:i+1]))"
   ]
  },
  {
   "cell_type": "code",
   "execution_count": null,
   "metadata": {},
   "outputs": [],
   "source": [
    "test_class = FDC(x,y, model = 'gamma')\n",
    "# print(\"going to fit the class\")\n",
    "test_class.fit()\n",
    "# for index, point in enumerate(x):\n",
    "#     print(test_class.predict(point, explicit = True))\n",
    "# print(test_class.alphas)\n",
    "test_class.score()"
   ]
  },
  {
   "cell_type": "code",
   "execution_count": 12,
   "metadata": {
    "ExecuteTime": {
     "end_time": "2020-06-05T05:01:12.367041Z",
     "start_time": "2020-06-05T05:01:12.128314Z"
    }
   },
   "outputs": [
    {
     "name": "stdout",
     "output_type": "stream",
     "text": [
      "actually running\n",
      "(2510, 30) (2510,)\n",
      "the data was calculated to have a k of not a number\n",
      "the data was calculated to have a k of not a number\n",
      "the data was calculated to have a k of not a number\n",
      "the data was calculated to have a k of not a number\n",
      "the data was calculated to have a k of not a number\n",
      "the data was calculated to have a k of not a number\n",
      "the data was calculated to have a k of not a number\n",
      "the data was calculated to have a k of not a number\n",
      "the data was calculated to have a k of not a number\n",
      "the data was calculated to have a k of not a number\n",
      "the data was calculated to have a k of not a number\n",
      "the data was calculated to have a k of not a number\n",
      "the data was calculated to have a k of not a number\n",
      "the data was calculated to have a k of not a number\n",
      "the data was calculated to have a k of not a number\n",
      "the data was calculated to have a k of not a number\n",
      "the data was calculated to have a k of not a number\n",
      "the data was calculated to have a k of not a number\n",
      "the data was calculated to have a k of not a number\n",
      "the data was calculated to have a k of not a number\n"
     ]
    },
    {
     "name": "stderr",
     "output_type": "stream",
     "text": [
      "D:\\Anaconda\\lib\\site-packages\\ipykernel_launcher.py:11: RuntimeWarning: divide by zero encountered in log\n",
      "  # This is added back by InteractiveShellApp.init_path()\n",
      "D:\\Anaconda\\lib\\site-packages\\ipykernel_launcher.py:20: RuntimeWarning: divide by zero encountered in true_divide\n",
      "D:\\Anaconda\\lib\\site-packages\\ipykernel_launcher.py:20: RuntimeWarning: divide by zero encountered in log\n",
      "D:\\Anaconda\\lib\\site-packages\\ipykernel_launcher.py:20: RuntimeWarning: invalid value encountered in subtract\n",
      "D:\\Anaconda\\lib\\site-packages\\ipykernel_launcher.py:10: RuntimeWarning: divide by zero encountered in log\n",
      "  # Remove the CWD from sys.path while we load stuff.\n",
      "D:\\Anaconda\\lib\\site-packages\\ipykernel_launcher.py:13: RuntimeWarning: invalid value encountered in subtract\n",
      "  del sys.path[0]\n",
      "D:\\Anaconda\\lib\\site-packages\\ipykernel_launcher.py:20: RuntimeWarning: invalid value encountered in log\n"
     ]
    }
   ],
   "source": [
    "print('actually running')\n",
    "num = 8\n",
    "cats = num if num <= 8 else 8\n",
    "X = []\n",
    "y = []\n",
    "for i in range(cats):\n",
    "        x = pd.read_csv(data_location_AT[i], header = None, sep = ' ').iloc[:,:].values\n",
    "        for b in x:\n",
    "            X.append(b)\n",
    "            y.append(i)\n",
    "            \n",
    "def customNorm(X):\n",
    "    x = X\n",
    "    for feature in range(X.shape[1]):\n",
    "                x[:,feature] = X[:,feature]/np.max(X[:, feature])\n",
    "    return x            \n",
    "\n",
    "# #print(len(X), len(X[0]))\n",
    "X = np.asarray(X)\n",
    "#print(\"data shape should be:\", X.shape)\n",
    "y = np.asarray(y) \n",
    "x = customNorm(X)\n",
    "\n",
    "X_train, X_test, y_train, y_test = train_test_split( x, y, test_size=0.33, random_state=42)\n",
    "\n",
    "print(X_train.shape, y_train.shape)\n",
    "test_class = FDC(X_train,y_train, model = 'gamma')\n",
    "\n",
    "test_class.fit()"
   ]
  },
  {
   "cell_type": "code",
   "execution_count": 15,
   "metadata": {
    "ExecuteTime": {
     "end_time": "2020-06-05T05:05:27.443809Z",
     "start_time": "2020-06-05T05:02:26.677863Z"
    }
   },
   "outputs": [
    {
     "name": "stdout",
     "output_type": "stream",
     "text": [
      "correct percentage: 0.9434114793856103\n"
     ]
    }
   ],
   "source": [
    "correct = 0\n",
    "count = 0\n",
    "for index, point in enumerate(X_test):\n",
    "    if test_class.predict(point) == y_test[index]:\n",
    "        correct += 1\n",
    "    count += 1\n",
    "#     print(index)\n",
    "print(f\"correct percentage: {correct/count}\")"
   ]
  },
  {
   "cell_type": "code",
   "execution_count": 16,
   "metadata": {
    "ExecuteTime": {
     "end_time": "2020-06-05T05:05:28.523635Z",
     "start_time": "2020-06-05T05:05:27.446797Z"
    }
   },
   "outputs": [
    {
     "name": "stdout",
     "output_type": "stream",
     "text": [
      "incorrect class prediction 2 for class 0: {0: 0.39265946615278646, 1: 0.2782665421812992, 2: 0.4769500911857869}\n",
      "incorrect class prediction 2 for class 0: {0: 0.1496659266489735, 1: 0.2597193507312102, 2: 0.49952472065766673}"
     ]
    },
    {
     "name": "stderr",
     "output_type": "stream",
     "text": [
      "D:\\Anaconda\\lib\\site-packages\\ipykernel_launcher.py:2: ParserWarning: Falling back to the 'python' engine because the 'c' engine does not support regex separators (separators > 1 char and different from '\\s+' are interpreted as regex); you can avoid this warning by specifying engine='python'.\n",
      "  \n"
     ]
    },
    {
     "name": "stdout",
     "output_type": "stream",
     "text": [
      "\n",
      "incorrect class prediction 1 for class 0: {0: 0.1596496723771671, 1: 0.4213243176257634, 2: 0.10328794086527215}\n",
      "incorrect class prediction 1 for class 0: {0: 0.2485361330885063, 1: 0.30884666733932675, 2: 0.06899613690924689}\n",
      "incorrect class prediction 2 for class 0: {0: 0.30065206215422036, 1: 0.22118454130623666, 2: 0.44932694006843654}\n",
      "incorrect class prediction 2 for class 1: {0: 0.3013135398897584, 1: 0.2471425564000116, 2: 0.4565999808043074}\n",
      "incorrect class prediction 2 for class 1: {0: 0.2761443952216186, 1: 0.4621944428172827, 2: 0.5584509633006409}\n",
      "incorrect class prediction 2 for class 1: {0: 0.2093954240543341, 1: 0.2601552544652328, 2: 0.6063538669599287}\n",
      "incorrect class prediction 2 for class 1: {0: 0.05160658030991028, 1: 0.6311496360370034, 2: 0.6318997059082432}\n",
      "incorrect class prediction 2 for class 1: {0: 0.3943547426224403, 1: 0.3796330222516776, 2: 0.47800489803421364}\n",
      "incorrect class prediction 0 for class 1: {0: 0.3729902870043207, 1: 0.13598930158180156, 2: 0.028506873187110426}\n",
      "incorrect class prediction 2 for class 1: {0: 0.06440572712626158, 1: 0.5963847583426485, 2: 0.6772452585978931}\n",
      "incorrect class prediction 0 for class 1: {0: 0.49763586993498476, 1: 0.07879621326913167, 2: 0.0030420337454316604}\n",
      "incorrect class prediction 2 for class 1: {0: 0.21562103729952564, 1: 0.4956782188836675, 2: 0.6091627379121795}\n",
      "incorrect class prediction 2 for class 1: {0: 0.1173225707838339, 1: 0.5671993330575895, 2: 0.7467926028144138}\n",
      "incorrect class prediction 2 for class 1: {0: 0.06247332963086383, 1: 0.4821218043526183, 2: 0.6252379157175219}\n",
      "incorrect class prediction 2 for class 1: {0: 0.15217876058690571, 1: 0.3287760365161638, 2: 0.7270584776934649}\n",
      "incorrect class prediction 2 for class 1: {0: 0.17894200431386365, 1: 0.3639143727717601, 2: 0.6463056220319916}\n",
      "incorrect class prediction 0 for class 1: {0: 0.47766151328796835, 1: 0.0959237908316537, 2: 0.012340660207878495}\n",
      "incorrect class prediction 0 for class 1: {0: 0.42198218651003905, 1: 0.2597723233455551, 2: 0.07882851483769071}\n",
      "incorrect class prediction 1 for class 2: {0: 0.03729218276591184, 1: 0.6764963444255745, 2: 0.4360520652111194}\n",
      "incorrect class prediction 1 for class 2: {0: 0.3613215135985858, 1: 0.43382033803737574, 2: 0.06861854720496752}\n",
      "incorrect class prediction 1 for class 2: {0: 0.03858962229860974, 1: 0.4765672562578821, 2: 0.2554112639599412}\n",
      "incorrect class prediction 1 for class 2: {0: 0.07161858675593225, 1: 0.6559310771801818, 2: 0.5185549900804838}\n",
      "incorrect class prediction 0 for class 2: {0: 0.14993183054765535, 1: 0.001967597123981757, 2: 0.07653584988972728}\n",
      "incorrect class prediction 1 for class 2: {0: 0.00877077778102564, 1: 0.2766513866291779, 2: 0.1477273380562798}\n",
      "incorrect class prediction 1 for class 2: {0: 0.003565798009304788, 1: 0.48045229277596624, 2: 0.29440428815505404}\n",
      "incorrect class prediction 1 for class 2: {0: 0.09485529222708011, 1: 0.6325055606379522, 2: 0.4093393654577392}\n",
      "incorrect class prediction 1 for class 2: {0: 0.022652193837547352, 1: 0.6002278004815895, 2: 0.5054266560010858}\n",
      "incorrect class prediction 1 for class 2: {0: 0.06196313325885494, 1: 0.6087325599666807, 2: 0.5776614430241351}\n",
      "incorrect class prediction 1 for class 2: {0: 0.035192328076116164, 1: 0.5006031163405436, 2: 0.45822566022312206}\n",
      "incorrect class prediction 0 for class 2: {0: 0.1378231311810928, 1: 0.0013380785751991864, 2: 0.09728351264623136}\n",
      "incorrect class prediction 1 for class 2: {0: 0.131334300872611, 1: 0.6278607828103951, 2: 0.5910869836671635}\n",
      "incorrect class prediction 1 for class 2: {0: 0.03583198553673572, 1: 0.6882634586340688, 2: 0.4164576716063192}\n"
     ]
    },
    {
     "data": {
      "text/plain": [
       "0.7702702702702703"
      ]
     },
     "execution_count": 16,
     "metadata": {},
     "output_type": "execute_result"
    }
   ],
   "source": [
    "iris = r\"D:\\Tim Huang\\Documents\\knnNullClassifiers-master\\Nearest-Neightbor-Classification\\data\\Iris Data\\iris.txt\"\n",
    "X = pd.read_csv(iris, header = None, sep = '   ').iloc[:,:].values\n",
    "y = X[:,-1].astype(int)\n",
    "X = X[:,: -2]\n",
    "\n",
    "iris_class = FDC(X, y)\n",
    "iris_class.fit()\n",
    "iris_class.score()"
   ]
  },
  {
   "cell_type": "code",
   "execution_count": 36,
   "metadata": {
    "ExecuteTime": {
     "end_time": "2020-06-05T18:15:37.138948Z",
     "start_time": "2020-06-05T18:15:36.893964Z"
    }
   },
   "outputs": [
    {
     "data": {
      "text/plain": [
       "0.9417946645109135"
      ]
     },
     "execution_count": 36,
     "metadata": {},
     "output_type": "execute_result"
    }
   ],
   "source": [
    "neigh = KNeighborsClassifier(n_neighbors=342)\n",
    "neigh.fit(X_train, y_train)\n",
    "neigh.score(X_test,y_test)"
   ]
  },
  {
   "cell_type": "code",
   "execution_count": null,
   "metadata": {},
   "outputs": [],
   "source": []
  }
 ],
 "metadata": {
  "kernelspec": {
   "display_name": "Python 3",
   "language": "python",
   "name": "python3"
  },
  "language_info": {
   "codemirror_mode": {
    "name": "ipython",
    "version": 3
   },
   "file_extension": ".py",
   "mimetype": "text/x-python",
   "name": "python",
   "nbconvert_exporter": "python",
   "pygments_lexer": "ipython3",
   "version": "3.7.6"
  }
 },
 "nbformat": 4,
 "nbformat_minor": 4
}
